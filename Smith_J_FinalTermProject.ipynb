{
 "cells": [
  {
   "cell_type": "markdown",
   "metadata": {},
   "source": [
    "## John Austin Smith\n",
    "\"On my honor, as a student, I have neither given\n",
    "nor received unauthorized aid on this academic work.\""
   ]
  },
  {
   "cell_type": "code",
   "execution_count": 1656,
   "metadata": {},
   "outputs": [],
   "source": [
    "import numpy as np\n",
    "import pandas as pd\n",
    "import matplotlib.pyplot as plt\n",
    "import seaborn as sns\n",
    "\n",
    "%matplotlib inline\n",
    "\n",
    "from scipy import stats\n",
    "from pandas.tools import plotting\n",
    "\n",
    "#import decisiontreeclassifier\n",
    "from sklearn import tree\n",
    "from sklearn.tree import DecisionTreeClassifier\n",
    "#import logisticregression classifier\n",
    "from sklearn.linear_model import LogisticRegression\n",
    "import statsmodels.api as sm\n",
    "#import knn classifier\n",
    "from sklearn.neighbors import KNeighborsClassifier\n",
    "\n",
    "from sklearn import svm\n",
    "from sklearn.neural_network import MLPClassifier\n",
    "\n",
    "\n",
    "#ensemble classifier\n",
    "from sklearn.ensemble import RandomForestClassifier\n",
    "from sklearn.ensemble import GradientBoostingClassifier  #GBM algorithm\n",
    "\n",
    "from sklearn.metrics import classification_report, f1_score, accuracy_score, confusion_matrix\n",
    "from sklearn.model_selection import StratifiedKFold, cross_val_score, train_test_split, GridSearchCV, RandomizedSearchCV \n",
    "from sklearn import metrics\n",
    "from sklearn.metrics import roc_auc_score, auc\n",
    "\n",
    "# feature selection\n",
    "from sklearn.feature_selection import RFE\n",
    "from sklearn.ensemble import ExtraTreesClassifier\n",
    "from sklearn.feature_selection import SelectKBest\n",
    "from sklearn.feature_selection import chi2"
   ]
  },
  {
   "cell_type": "markdown",
   "metadata": {},
   "source": [
    "## Data Retrieval"
   ]
  },
  {
   "cell_type": "code",
   "execution_count": 1657,
   "metadata": {},
   "outputs": [
    {
     "data": {
      "text/html": [
       "<div>\n",
       "<style scoped>\n",
       "    .dataframe tbody tr th:only-of-type {\n",
       "        vertical-align: middle;\n",
       "    }\n",
       "\n",
       "    .dataframe tbody tr th {\n",
       "        vertical-align: top;\n",
       "    }\n",
       "\n",
       "    .dataframe thead th {\n",
       "        text-align: right;\n",
       "    }\n",
       "</style>\n",
       "<table border=\"1\" class=\"dataframe\">\n",
       "  <thead>\n",
       "    <tr style=\"text-align: right;\">\n",
       "      <th></th>\n",
       "      <th>FAKEID</th>\n",
       "      <th>Y2defect</th>\n",
       "      <th>Y1G5</th>\n",
       "      <th>Y1G4</th>\n",
       "      <th>Y1G3</th>\n",
       "      <th>Y1G2</th>\n",
       "      <th>Y1G1</th>\n",
       "      <th>Y1price</th>\n",
       "      <th>YEARS</th>\n",
       "      <th>BACKER</th>\n",
       "      <th>AGE</th>\n",
       "      <th>INCOME</th>\n",
       "      <th>CHILD</th>\n",
       "      <th>GNDR</th>\n",
       "      <th>OWNHOME</th>\n",
       "      <th>SPORT</th>\n",
       "      <th>COMP</th>\n",
       "      <th>PCTMARR</th>\n",
       "      <th>HOMEVAL</th>\n",
       "    </tr>\n",
       "  </thead>\n",
       "  <tbody>\n",
       "    <tr>\n",
       "      <th>0</th>\n",
       "      <td>580V74KT</td>\n",
       "      <td>0</td>\n",
       "      <td>0</td>\n",
       "      <td>0</td>\n",
       "      <td>1</td>\n",
       "      <td>1</td>\n",
       "      <td>1</td>\n",
       "      <td>15</td>\n",
       "      <td>8</td>\n",
       "      <td>1</td>\n",
       "      <td>94</td>\n",
       "      <td>4</td>\n",
       "      <td>NaN</td>\n",
       "      <td>0</td>\n",
       "      <td>1</td>\n",
       "      <td>NaN</td>\n",
       "      <td></td>\n",
       "      <td>77</td>\n",
       "      <td>203</td>\n",
       "    </tr>\n",
       "    <tr>\n",
       "      <th>1</th>\n",
       "      <td>298S54OK</td>\n",
       "      <td>1</td>\n",
       "      <td>0</td>\n",
       "      <td>0</td>\n",
       "      <td>1</td>\n",
       "      <td>0</td>\n",
       "      <td>1</td>\n",
       "      <td>15</td>\n",
       "      <td>3</td>\n",
       "      <td>1</td>\n",
       "      <td></td>\n",
       "      <td></td>\n",
       "      <td>NaN</td>\n",
       "      <td>0</td>\n",
       "      <td>0</td>\n",
       "      <td>NaN</td>\n",
       "      <td>1</td>\n",
       "      <td>53</td>\n",
       "      <td>68</td>\n",
       "    </tr>\n",
       "    <tr>\n",
       "      <th>2</th>\n",
       "      <td>268D25AO</td>\n",
       "      <td>1</td>\n",
       "      <td>1</td>\n",
       "      <td>0</td>\n",
       "      <td>0</td>\n",
       "      <td>0</td>\n",
       "      <td>1</td>\n",
       "      <td>15</td>\n",
       "      <td>11</td>\n",
       "      <td>1</td>\n",
       "      <td>67</td>\n",
       "      <td>2</td>\n",
       "      <td>NaN</td>\n",
       "      <td>0</td>\n",
       "      <td>1</td>\n",
       "      <td>0.0</td>\n",
       "      <td></td>\n",
       "      <td>50</td>\n",
       "      <td>38</td>\n",
       "    </tr>\n",
       "    <tr>\n",
       "      <th>3</th>\n",
       "      <td>312Q12WV</td>\n",
       "      <td>1</td>\n",
       "      <td>1</td>\n",
       "      <td>0</td>\n",
       "      <td>1</td>\n",
       "      <td>0</td>\n",
       "      <td>1</td>\n",
       "      <td>15</td>\n",
       "      <td>4</td>\n",
       "      <td>0</td>\n",
       "      <td>62</td>\n",
       "      <td>4</td>\n",
       "      <td></td>\n",
       "      <td>1</td>\n",
       "      <td>1</td>\n",
       "      <td>0.0</td>\n",
       "      <td>1</td>\n",
       "      <td>60</td>\n",
       "      <td>68</td>\n",
       "    </tr>\n",
       "    <tr>\n",
       "      <th>4</th>\n",
       "      <td>420R23VB</td>\n",
       "      <td>0</td>\n",
       "      <td>0</td>\n",
       "      <td>0</td>\n",
       "      <td>1</td>\n",
       "      <td>0</td>\n",
       "      <td>0</td>\n",
       "      <td>15</td>\n",
       "      <td>5</td>\n",
       "      <td>0</td>\n",
       "      <td>89</td>\n",
       "      <td>4</td>\n",
       "      <td></td>\n",
       "      <td>1</td>\n",
       "      <td>1</td>\n",
       "      <td>0.0</td>\n",
       "      <td></td>\n",
       "      <td>65</td>\n",
       "      <td>194</td>\n",
       "    </tr>\n",
       "  </tbody>\n",
       "</table>\n",
       "</div>"
      ],
      "text/plain": [
       "     FAKEID  Y2defect  Y1G5  Y1G4  Y1G3  Y1G2  Y1G1  Y1price  YEARS  BACKER  \\\n",
       "0  580V74KT         0     0     0     1     1     1       15      8       1   \n",
       "1  298S54OK         1     0     0     1     0     1       15      3       1   \n",
       "2  268D25AO         1     1     0     0     0     1       15     11       1   \n",
       "3  312Q12WV         1     1     0     1     0     1       15      4       0   \n",
       "4  420R23VB         0     0     0     1     0     0       15      5       0   \n",
       "\n",
       "  AGE INCOME CHILD GNDR OWNHOME  SPORT COMP  PCTMARR  HOMEVAL  \n",
       "0  94      4   NaN    0       1    NaN            77      203  \n",
       "1              NaN    0       0    NaN    1       53       68  \n",
       "2  67      2   NaN    0       1    0.0            50       38  \n",
       "3  62      4          1       1    0.0    1       60       68  \n",
       "4  89      4          1       1    0.0            65      194  "
      ]
     },
     "execution_count": 1657,
     "metadata": {},
     "output_type": "execute_result"
    }
   ],
   "source": [
    "df=pd.read_excel(\"train_test_dataset.xlsx\") # retrieving and displaying the first 5 rows\n",
    "df.head()"
   ]
  },
  {
   "cell_type": "code",
   "execution_count": 1658,
   "metadata": {},
   "outputs": [
    {
     "name": "stdout",
     "output_type": "stream",
     "text": [
      "<class 'pandas.core.frame.DataFrame'>\n",
      "RangeIndex: 9216 entries, 0 to 9215\n",
      "Data columns (total 19 columns):\n",
      "FAKEID      9216 non-null object\n",
      "Y2defect    9216 non-null int64\n",
      "Y1G5        9216 non-null int64\n",
      "Y1G4        9216 non-null int64\n",
      "Y1G3        9216 non-null int64\n",
      "Y1G2        9216 non-null int64\n",
      "Y1G1        9216 non-null int64\n",
      "Y1price     9216 non-null int64\n",
      "YEARS       9216 non-null int64\n",
      "BACKER      9216 non-null int64\n",
      "AGE         9216 non-null object\n",
      "INCOME      9216 non-null object\n",
      "CHILD       4549 non-null object\n",
      "GNDR        9216 non-null object\n",
      "OWNHOME     9216 non-null object\n",
      "SPORT       4273 non-null float64\n",
      "COMP        9216 non-null object\n",
      "PCTMARR     9216 non-null int64\n",
      "HOMEVAL     9216 non-null int64\n",
      "dtypes: float64(1), int64(11), object(7)\n",
      "memory usage: 1.3+ MB\n"
     ]
    }
   ],
   "source": [
    "df.info() # discovering the columns variable types and how many variables are filled in each column"
   ]
  },
  {
   "cell_type": "code",
   "execution_count": 1659,
   "metadata": {},
   "outputs": [
    {
     "data": {
      "text/plain": [
       "FAKEID         0\n",
       "Y2defect       0\n",
       "Y1G5           0\n",
       "Y1G4           0\n",
       "Y1G3           0\n",
       "Y1G2           0\n",
       "Y1G1           0\n",
       "Y1price        0\n",
       "YEARS          0\n",
       "BACKER         0\n",
       "AGE            0\n",
       "INCOME         0\n",
       "CHILD       4667\n",
       "GNDR           0\n",
       "OWNHOME        0\n",
       "SPORT       4943\n",
       "COMP           0\n",
       "PCTMARR        0\n",
       "HOMEVAL        0\n",
       "dtype: int64"
      ]
     },
     "execution_count": 1659,
     "metadata": {},
     "output_type": "execute_result"
    }
   ],
   "source": [
    "df.isnull().sum() # Checking how many variables are null"
   ]
  },
  {
   "cell_type": "code",
   "execution_count": 1660,
   "metadata": {
    "scrolled": true
   },
   "outputs": [
    {
     "data": {
      "text/plain": [
       "Y2defect      0.500000\n",
       "Y1G5          0.337023\n",
       "Y1G4          0.510525\n",
       "Y1G3          0.636719\n",
       "Y1G2          0.291124\n",
       "Y1G1          0.480252\n",
       "Y1price      19.963108\n",
       "YEARS         6.378038\n",
       "BACKER        0.489475\n",
       "SPORT         0.056869\n",
       "PCTMARR      58.228516\n",
       "HOMEVAL     112.111220\n",
       "dtype: float64"
      ]
     },
     "execution_count": 1660,
     "metadata": {},
     "output_type": "execute_result"
    }
   ],
   "source": [
    "df.mean() # finding the mean of each column"
   ]
  },
  {
   "cell_type": "markdown",
   "metadata": {},
   "source": [
    "## Data Cleaning and Processing"
   ]
  },
  {
   "cell_type": "code",
   "execution_count": 1661,
   "metadata": {},
   "outputs": [],
   "source": [
    "df = df.drop(['CHILD','SPORT','COMP','OWNHOME'], axis = 1) # dropping the columns that will not be useful to us"
   ]
  },
  {
   "cell_type": "code",
   "execution_count": 1662,
   "metadata": {},
   "outputs": [
    {
     "data": {
      "text/plain": [
       "FAKEID      0\n",
       "Y2defect    0\n",
       "Y1G5        0\n",
       "Y1G4        0\n",
       "Y1G3        0\n",
       "Y1G2        0\n",
       "Y1G1        0\n",
       "Y1price     0\n",
       "YEARS       0\n",
       "BACKER      0\n",
       "AGE         0\n",
       "INCOME      0\n",
       "GNDR        0\n",
       "PCTMARR     0\n",
       "HOMEVAL     0\n",
       "dtype: int64"
      ]
     },
     "execution_count": 1662,
     "metadata": {},
     "output_type": "execute_result"
    }
   ],
   "source": [
    "df.isnull().sum() # checking nulls again"
   ]
  },
  {
   "cell_type": "code",
   "execution_count": 1663,
   "metadata": {
    "collapsed": true
   },
   "outputs": [],
   "source": [
    "c = 0 # changing any wrongly inputed variables to nulls\n",
    "for i in df.AGE:\n",
    "    if type(i) != int:\n",
    "        i = None\n",
    "    df.loc[c,'AGE'] = i\n",
    "    c = c + 1"
   ]
  },
  {
   "cell_type": "code",
   "execution_count": 1664,
   "metadata": {
    "collapsed": true
   },
   "outputs": [],
   "source": [
    "c = 0 # changing any wrongly inputed variables to nulls\n",
    "for i in df.INCOME:\n",
    "    if type(i) != int:\n",
    "        i = None\n",
    "    df.loc[c,'INCOME'] = i\n",
    "    c = c + 1"
   ]
  },
  {
   "cell_type": "code",
   "execution_count": 1665,
   "metadata": {
    "collapsed": true
   },
   "outputs": [],
   "source": [
    "c = 0 # changing any wrongly inputed variables to nulls\n",
    "for i in df.GNDR:\n",
    "    if type(i) != int:\n",
    "        i = None\n",
    "    df.loc[c,'GNDR'] = i\n",
    "    c = c + 1"
   ]
  },
  {
   "cell_type": "code",
   "execution_count": 1666,
   "metadata": {},
   "outputs": [
    {
     "name": "stdout",
     "output_type": "stream",
     "text": [
      "<class 'pandas.core.frame.DataFrame'>\n",
      "Int64Index: 6214 entries, 0 to 9215\n",
      "Data columns (total 15 columns):\n",
      "FAKEID      6214 non-null object\n",
      "Y2defect    6214 non-null int64\n",
      "Y1G5        6214 non-null int64\n",
      "Y1G4        6214 non-null int64\n",
      "Y1G3        6214 non-null int64\n",
      "Y1G2        6214 non-null int64\n",
      "Y1G1        6214 non-null int64\n",
      "Y1price     6214 non-null int64\n",
      "YEARS       6214 non-null int64\n",
      "BACKER      6214 non-null int64\n",
      "AGE         6214 non-null object\n",
      "INCOME      6214 non-null object\n",
      "GNDR        6214 non-null object\n",
      "PCTMARR     6214 non-null int64\n",
      "HOMEVAL     6214 non-null int64\n",
      "dtypes: int64(11), object(4)\n",
      "memory usage: 776.8+ KB\n"
     ]
    }
   ],
   "source": [
    "df = df.dropna(how='any') # drop any rows will null variables\n",
    "df.info()"
   ]
  },
  {
   "cell_type": "code",
   "execution_count": 1667,
   "metadata": {},
   "outputs": [],
   "source": [
    "df['AGE'] = df['AGE'].astype(int) # changing variable type to int"
   ]
  },
  {
   "cell_type": "code",
   "execution_count": 1668,
   "metadata": {
    "collapsed": true
   },
   "outputs": [],
   "source": [
    "df['INCOME'] = df['INCOME'].astype(int) # changing variable type to int"
   ]
  },
  {
   "cell_type": "code",
   "execution_count": 1669,
   "metadata": {
    "collapsed": true
   },
   "outputs": [],
   "source": [
    "df['GNDR'] = df['GNDR'].astype(int) # changing variable type to int"
   ]
  },
  {
   "cell_type": "code",
   "execution_count": 1670,
   "metadata": {},
   "outputs": [
    {
     "data": {
      "text/plain": [
       "61.12101705825555"
      ]
     },
     "execution_count": 1670,
     "metadata": {},
     "output_type": "execute_result"
    }
   ],
   "source": [
    "df.AGE.mean() # checking the mean of age"
   ]
  },
  {
   "cell_type": "code",
   "execution_count": 1671,
   "metadata": {},
   "outputs": [
    {
     "data": {
      "text/plain": [
       "2.9391696169938846"
      ]
     },
     "execution_count": 1671,
     "metadata": {},
     "output_type": "execute_result"
    }
   ],
   "source": [
    "df.INCOME.mean() # checking the mean of income"
   ]
  },
  {
   "cell_type": "code",
   "execution_count": 1672,
   "metadata": {},
   "outputs": [
    {
     "data": {
      "text/html": [
       "<div>\n",
       "<style scoped>\n",
       "    .dataframe tbody tr th:only-of-type {\n",
       "        vertical-align: middle;\n",
       "    }\n",
       "\n",
       "    .dataframe tbody tr th {\n",
       "        vertical-align: top;\n",
       "    }\n",
       "\n",
       "    .dataframe thead th {\n",
       "        text-align: right;\n",
       "    }\n",
       "</style>\n",
       "<table border=\"1\" class=\"dataframe\">\n",
       "  <thead>\n",
       "    <tr style=\"text-align: right;\">\n",
       "      <th></th>\n",
       "      <th>FAKEID</th>\n",
       "      <th>Y2defect</th>\n",
       "      <th>Y1G5</th>\n",
       "      <th>Y1G4</th>\n",
       "      <th>Y1G3</th>\n",
       "      <th>Y1G2</th>\n",
       "      <th>Y1G1</th>\n",
       "      <th>Y1price</th>\n",
       "      <th>YEARS</th>\n",
       "      <th>BACKER</th>\n",
       "      <th>AGE</th>\n",
       "      <th>INCOME</th>\n",
       "      <th>PCTMARR</th>\n",
       "      <th>HOMEVAL</th>\n",
       "    </tr>\n",
       "    <tr>\n",
       "      <th>GNDR</th>\n",
       "      <th></th>\n",
       "      <th></th>\n",
       "      <th></th>\n",
       "      <th></th>\n",
       "      <th></th>\n",
       "      <th></th>\n",
       "      <th></th>\n",
       "      <th></th>\n",
       "      <th></th>\n",
       "      <th></th>\n",
       "      <th></th>\n",
       "      <th></th>\n",
       "      <th></th>\n",
       "      <th></th>\n",
       "    </tr>\n",
       "  </thead>\n",
       "  <tbody>\n",
       "    <tr>\n",
       "      <th>0</th>\n",
       "      <td>3351</td>\n",
       "      <td>3351</td>\n",
       "      <td>3351</td>\n",
       "      <td>3351</td>\n",
       "      <td>3351</td>\n",
       "      <td>3351</td>\n",
       "      <td>3351</td>\n",
       "      <td>3351</td>\n",
       "      <td>3351</td>\n",
       "      <td>3351</td>\n",
       "      <td>3351</td>\n",
       "      <td>3351</td>\n",
       "      <td>3351</td>\n",
       "      <td>3351</td>\n",
       "    </tr>\n",
       "    <tr>\n",
       "      <th>1</th>\n",
       "      <td>2863</td>\n",
       "      <td>2863</td>\n",
       "      <td>2863</td>\n",
       "      <td>2863</td>\n",
       "      <td>2863</td>\n",
       "      <td>2863</td>\n",
       "      <td>2863</td>\n",
       "      <td>2863</td>\n",
       "      <td>2863</td>\n",
       "      <td>2863</td>\n",
       "      <td>2863</td>\n",
       "      <td>2863</td>\n",
       "      <td>2863</td>\n",
       "      <td>2863</td>\n",
       "    </tr>\n",
       "  </tbody>\n",
       "</table>\n",
       "</div>"
      ],
      "text/plain": [
       "      FAKEID  Y2defect  Y1G5  Y1G4  Y1G3  Y1G2  Y1G1  Y1price  YEARS  BACKER  \\\n",
       "GNDR                                                                           \n",
       "0       3351      3351  3351  3351  3351  3351  3351     3351   3351    3351   \n",
       "1       2863      2863  2863  2863  2863  2863  2863     2863   2863    2863   \n",
       "\n",
       "       AGE  INCOME  PCTMARR  HOMEVAL  \n",
       "GNDR                                  \n",
       "0     3351    3351     3351     3351  \n",
       "1     2863    2863     2863     2863  "
      ]
     },
     "execution_count": 1672,
     "metadata": {},
     "output_type": "execute_result"
    }
   ],
   "source": [
    "df.groupby('GNDR').count() # counting the difference between males and females"
   ]
  },
  {
   "cell_type": "markdown",
   "metadata": {},
   "source": [
    "c = 0\n",
    "for i in df.AGE:\n",
    "    if i == None:\n",
    "        i = 61\n",
    "    df.loc[c,'AGE'] = i\n",
    "    c = c + 1"
   ]
  },
  {
   "cell_type": "markdown",
   "metadata": {
    "collapsed": true
   },
   "source": [
    "c = 0\n",
    "for i in df.INCOME:\n",
    "    if i == None:\n",
    "        i = 3\n",
    "    df.loc[c,'INCOME'] = i\n",
    "    c = c + 1"
   ]
  },
  {
   "cell_type": "markdown",
   "metadata": {
    "collapsed": true
   },
   "source": [
    "c = 0\n",
    "for i in df.GNDR:\n",
    "    if i == None:\n",
    "        i = 0\n",
    "    df.loc[c,'GNDR'] = i\n",
    "    c = c + 1"
   ]
  },
  {
   "cell_type": "code",
   "execution_count": 1673,
   "metadata": {},
   "outputs": [
    {
     "data": {
      "text/plain": [
       "FAKEID      0\n",
       "Y2defect    0\n",
       "Y1G5        0\n",
       "Y1G4        0\n",
       "Y1G3        0\n",
       "Y1G2        0\n",
       "Y1G1        0\n",
       "Y1price     0\n",
       "YEARS       0\n",
       "BACKER      0\n",
       "AGE         0\n",
       "INCOME      0\n",
       "GNDR        0\n",
       "PCTMARR     0\n",
       "HOMEVAL     0\n",
       "dtype: int64"
      ]
     },
     "execution_count": 1673,
     "metadata": {},
     "output_type": "execute_result"
    }
   ],
   "source": [
    "df.isnull().sum() # checking nulls again"
   ]
  },
  {
   "cell_type": "code",
   "execution_count": 1674,
   "metadata": {},
   "outputs": [
    {
     "name": "stdout",
     "output_type": "stream",
     "text": [
      "<class 'pandas.core.frame.DataFrame'>\n",
      "Int64Index: 6214 entries, 0 to 9215\n",
      "Data columns (total 15 columns):\n",
      "FAKEID      6214 non-null object\n",
      "Y2defect    6214 non-null int64\n",
      "Y1G5        6214 non-null int64\n",
      "Y1G4        6214 non-null int64\n",
      "Y1G3        6214 non-null int64\n",
      "Y1G2        6214 non-null int64\n",
      "Y1G1        6214 non-null int64\n",
      "Y1price     6214 non-null int64\n",
      "YEARS       6214 non-null int64\n",
      "BACKER      6214 non-null int64\n",
      "AGE         6214 non-null int32\n",
      "INCOME      6214 non-null int32\n",
      "GNDR        6214 non-null int32\n",
      "PCTMARR     6214 non-null int64\n",
      "HOMEVAL     6214 non-null int64\n",
      "dtypes: int32(3), int64(11), object(1)\n",
      "memory usage: 703.9+ KB\n"
     ]
    }
   ],
   "source": [
    "df.info() # checking to see if our changes were implemented"
   ]
  },
  {
   "cell_type": "markdown",
   "metadata": {},
   "source": [
    "## Model Building and Development"
   ]
  },
  {
   "cell_type": "code",
   "execution_count": 1675,
   "metadata": {
    "scrolled": false
   },
   "outputs": [
    {
     "data": {
      "text/plain": [
       "Y2defect\n",
       "0    [[AxesSubplot(0.125,0.725918;0.158163x0.154082...\n",
       "1    [[AxesSubplot(0.125,0.725918;0.158163x0.154082...\n",
       "dtype: object"
      ]
     },
     "execution_count": 1675,
     "metadata": {},
     "output_type": "execute_result"
    },
    {
     "data": {
      "image/png": "[encoded data removed]",
      "text/plain": [
       "<matplotlib.figure.Figure at 0xba3e23c8>"
      ]
     },
     "metadata": {},
     "output_type": "display_data"
    },
    {
     "data": {
      "image/png": "[encoded data removed]",
      "text/plain": [
       "<matplotlib.figure.Figure at 0xbbadccf8>"
      ]
     },
     "metadata": {},
     "output_type": "display_data"
    }
   ],
   "source": [
    "df.groupby('Y2defect').hist(figsize=(15,15)) # creating histograms to see the difference between \n",
    "                                             # renewed and not renewed ticket holders"
   ]
  },
  {
   "cell_type": "code",
   "execution_count": 1676,
   "metadata": {},
   "outputs": [
    {
     "name": "stdout",
     "output_type": "stream",
     "text": [
      "<class 'pandas.core.frame.DataFrame'>\n",
      "Int64Index: 6214 entries, 0 to 9215\n",
      "Data columns (total 5 columns):\n",
      "Y1G5    6214 non-null int64\n",
      "Y1G4    6214 non-null int64\n",
      "Y1G3    6214 non-null int64\n",
      "Y1G2    6214 non-null int64\n",
      "Y1G1    6214 non-null int64\n",
      "dtypes: int64(5)\n",
      "memory usage: 291.3 KB\n"
     ]
    }
   ],
   "source": [
    "y = df['Y2defect'] # selecting y2defect as y\n",
    "X = df.drop(['Y2defect','FAKEID','HOMEVAL','PCTMARR','GNDR','AGE','INCOME','Y1price','YEARS','BACKER'],axis=1) # selecting the variables to drop\n",
    "X.info() # showing the variables used for X"
   ]
  },
  {
   "cell_type": "code",
   "execution_count": 1677,
   "metadata": {
    "collapsed": true
   },
   "outputs": [],
   "source": [
    "X_train, X_test, y_train, y_test = train_test_split(X, y, test_size=.5, random_state=0) # testing"
   ]
  },
  {
   "cell_type": "code",
   "execution_count": 1678,
   "metadata": {},
   "outputs": [
    {
     "data": {
      "text/plain": [
       "DecisionTreeClassifier(class_weight=None, criterion='gini', max_depth=None,\n",
       "            max_features=None, max_leaf_nodes=None,\n",
       "            min_impurity_decrease=0.0, min_impurity_split=None,\n",
       "            min_samples_leaf=1, min_samples_split=2,\n",
       "            min_weight_fraction_leaf=0.0, presort=False, random_state=None,\n",
       "            splitter='best')"
      ]
     },
     "execution_count": 1678,
     "metadata": {},
     "output_type": "execute_result"
    }
   ],
   "source": [
    "dt = DecisionTreeClassifier() # creating decsision tree\n",
    "dt.fit(X_train, y_train) # fitting"
   ]
  },
  {
   "cell_type": "code",
   "execution_count": 1679,
   "metadata": {
    "scrolled": true
   },
   "outputs": [
    {
     "name": "stdout",
     "output_type": "stream",
     "text": [
      "0.5999356292243322\n",
      "[[1034  531]\n",
      " [ 712  830]]\n",
      "             precision    recall  f1-score   support\n",
      "\n",
      "          0       0.59      0.66      0.62      1565\n",
      "          1       0.61      0.54      0.57      1542\n",
      "\n",
      "avg / total       0.60      0.60      0.60      3107\n",
      "\n",
      "0.5994824364026636\n"
     ]
    }
   ],
   "source": [
    "print metrics.accuracy_score(y_test, dt.predict(X_test)) # displaying results\n",
    "print metrics.confusion_matrix(y_test, dt.predict(X_test))\n",
    "print metrics.classification_report(y_test, dt.predict(X_test))\n",
    "print metrics.roc_auc_score(y_test, dt.predict(X_test))"
   ]
  },
  {
   "cell_type": "code",
   "execution_count": 1680,
   "metadata": {},
   "outputs": [
    {
     "data": {
      "image/png": "[encoded data removed]",
      "text/plain": [
       "<matplotlib.figure.Figure at 0xbd596198>"
      ]
     },
     "metadata": {},
     "output_type": "display_data"
    }
   ],
   "source": [
    "import scikitplot as skplt # displaying results in a form that makes more sense.\n",
    "\n",
    "skplt.metrics.plot_confusion_matrix(y_true=np.array(y_test), y_pred=dt.predict(X_test))\n",
    "plt.show()"
   ]
  },
  {
   "cell_type": "code",
   "execution_count": 1681,
   "metadata": {
    "collapsed": true
   },
   "outputs": [],
   "source": [
    "tree.export_graphviz(dt, out_file='decision.dot', feature_names=X.columns) # exporting to graphviz"
   ]
  },
  {
   "cell_type": "code",
   "execution_count": 1682,
   "metadata": {},
   "outputs": [
    {
     "data": {
      "text/plain": [
       "DecisionTreeClassifier(class_weight=None, criterion='gini', max_depth=3,\n",
       "            max_features=None, max_leaf_nodes=None,\n",
       "            min_impurity_decrease=0.0, min_impurity_split=None,\n",
       "            min_samples_leaf=5, min_samples_split=2,\n",
       "            min_weight_fraction_leaf=0.0, presort=False, random_state=None,\n",
       "            splitter='best')"
      ]
     },
     "execution_count": 1682,
     "metadata": {},
     "output_type": "execute_result"
    }
   ],
   "source": [
    "X_train, X_test, y_train, y_test = train_test_split(X, y, test_size=0.3, random_state=0) # simplifying decision tree\n",
    "dt_simple = DecisionTreeClassifier(max_depth=3, min_samples_leaf=5)\n",
    "dt_simple.fit(X_train, y_train)"
   ]
  },
  {
   "cell_type": "code",
   "execution_count": 1683,
   "metadata": {},
   "outputs": [
    {
     "name": "stdout",
     "output_type": "stream",
     "text": [
      "0.588739946380697\n",
      "--------------------------------------------------------\n",
      "[[613 324]\n",
      " [443 485]]\n",
      "--------------------------------------------------------\n",
      "             precision    recall  f1-score   support\n",
      "\n",
      "          0       0.58      0.65      0.62       937\n",
      "          1       0.60      0.52      0.56       928\n",
      "\n",
      "avg / total       0.59      0.59      0.59      1865\n",
      "\n",
      "--------------------------------------------------------\n",
      "0.5884224459941855\n"
     ]
    }
   ],
   "source": [
    "# Find out the performance of this model & interpret the results\n",
    "print metrics.accuracy_score(y_test, dt_simple.predict(X_test))\n",
    "print \"--------------------------------------------------------\"\n",
    "print metrics.confusion_matrix(y_test, dt_simple.predict(X_test)) \n",
    "print \"--------------------------------------------------------\"\n",
    "print metrics.classification_report(y_test, dt_simple.predict(X_test))\n",
    "print \"--------------------------------------------------------\"\n",
    "print metrics.roc_auc_score(y_test, dt_simple.predict(X_test))"
   ]
  },
  {
   "cell_type": "code",
   "execution_count": 1684,
   "metadata": {
    "collapsed": true
   },
   "outputs": [],
   "source": [
    "tree.export_graphviz(dt_simple, out_file='decision_simple.dot', feature_names=X.columns) #exporting to graphviz"
   ]
  },
  {
   "cell_type": "code",
   "execution_count": 1685,
   "metadata": {},
   "outputs": [
    {
     "data": {
      "image/png": "[encoded data removed]",
      "text/plain": [
       "<IPython.core.display.Image object>"
      ]
     },
     "execution_count": 1685,
     "metadata": {},
     "output_type": "execute_result"
    }
   ],
   "source": [
    "from IPython.display import Image # displaying the simplified decision tree\n",
    "Image(\"decision_simple.png\")"
   ]
  },
  {
   "cell_type": "markdown",
   "metadata": {},
   "source": [
    "### Fixing Validation"
   ]
  },
  {
   "cell_type": "code",
   "execution_count": 1686,
   "metadata": {},
   "outputs": [
    {
     "data": {
      "text/html": [
       "<div>\n",
       "<style scoped>\n",
       "    .dataframe tbody tr th:only-of-type {\n",
       "        vertical-align: middle;\n",
       "    }\n",
       "\n",
       "    .dataframe tbody tr th {\n",
       "        vertical-align: top;\n",
       "    }\n",
       "\n",
       "    .dataframe thead th {\n",
       "        text-align: right;\n",
       "    }\n",
       "</style>\n",
       "<table border=\"1\" class=\"dataframe\">\n",
       "  <thead>\n",
       "    <tr style=\"text-align: right;\">\n",
       "      <th></th>\n",
       "      <th>FAKEID</th>\n",
       "      <th>Y3defect</th>\n",
       "      <th>Y2G5</th>\n",
       "      <th>Y2G4</th>\n",
       "      <th>Y2G3</th>\n",
       "      <th>Y2G2</th>\n",
       "      <th>Y2G1</th>\n",
       "      <th>Y2price</th>\n",
       "      <th>YEARS</th>\n",
       "      <th>BACKER</th>\n",
       "      <th>AGE</th>\n",
       "      <th>INCOME</th>\n",
       "      <th>CHILD</th>\n",
       "      <th>GNDR</th>\n",
       "      <th>OWNHOME</th>\n",
       "      <th>SPORT</th>\n",
       "      <th>COMP</th>\n",
       "      <th>PCTMARR</th>\n",
       "      <th>HOMEVAL</th>\n",
       "    </tr>\n",
       "  </thead>\n",
       "  <tbody>\n",
       "    <tr>\n",
       "      <th>0</th>\n",
       "      <td>580D24RR</td>\n",
       "      <td>NaN</td>\n",
       "      <td>0</td>\n",
       "      <td>0</td>\n",
       "      <td>1</td>\n",
       "      <td>1</td>\n",
       "      <td>0</td>\n",
       "      <td>15</td>\n",
       "      <td>5</td>\n",
       "      <td>0</td>\n",
       "      <td>49.0</td>\n",
       "      <td>4</td>\n",
       "      <td>NaN</td>\n",
       "      <td>0</td>\n",
       "      <td>1</td>\n",
       "      <td>0.0</td>\n",
       "      <td></td>\n",
       "      <td>66</td>\n",
       "      <td>64</td>\n",
       "    </tr>\n",
       "    <tr>\n",
       "      <th>1</th>\n",
       "      <td>179Q96NO</td>\n",
       "      <td>NaN</td>\n",
       "      <td>1</td>\n",
       "      <td>1</td>\n",
       "      <td>1</td>\n",
       "      <td>1</td>\n",
       "      <td>1</td>\n",
       "      <td>25</td>\n",
       "      <td>9</td>\n",
       "      <td>1</td>\n",
       "      <td>84.0</td>\n",
       "      <td>5</td>\n",
       "      <td></td>\n",
       "      <td>0</td>\n",
       "      <td></td>\n",
       "      <td>0.0</td>\n",
       "      <td></td>\n",
       "      <td>67</td>\n",
       "      <td>128</td>\n",
       "    </tr>\n",
       "    <tr>\n",
       "      <th>2</th>\n",
       "      <td>050Z45TB</td>\n",
       "      <td>NaN</td>\n",
       "      <td>1</td>\n",
       "      <td>0</td>\n",
       "      <td>1</td>\n",
       "      <td>1</td>\n",
       "      <td>0</td>\n",
       "      <td>15</td>\n",
       "      <td>5</td>\n",
       "      <td>1</td>\n",
       "      <td>NaN</td>\n",
       "      <td></td>\n",
       "      <td>NaN</td>\n",
       "      <td>0</td>\n",
       "      <td>0</td>\n",
       "      <td>NaN</td>\n",
       "      <td>1</td>\n",
       "      <td>52</td>\n",
       "      <td>113</td>\n",
       "    </tr>\n",
       "    <tr>\n",
       "      <th>3</th>\n",
       "      <td>399V18KY</td>\n",
       "      <td>NaN</td>\n",
       "      <td>0</td>\n",
       "      <td>0</td>\n",
       "      <td>1</td>\n",
       "      <td>1</td>\n",
       "      <td>0</td>\n",
       "      <td>15</td>\n",
       "      <td>1</td>\n",
       "      <td>0</td>\n",
       "      <td>34.0</td>\n",
       "      <td>4</td>\n",
       "      <td>1</td>\n",
       "      <td>0</td>\n",
       "      <td>1</td>\n",
       "      <td>NaN</td>\n",
       "      <td></td>\n",
       "      <td>65</td>\n",
       "      <td>81</td>\n",
       "    </tr>\n",
       "    <tr>\n",
       "      <th>4</th>\n",
       "      <td>009A52KP</td>\n",
       "      <td>NaN</td>\n",
       "      <td>0</td>\n",
       "      <td>1</td>\n",
       "      <td>0</td>\n",
       "      <td>1</td>\n",
       "      <td>0</td>\n",
       "      <td>25</td>\n",
       "      <td>9</td>\n",
       "      <td>1</td>\n",
       "      <td>59.0</td>\n",
       "      <td>4</td>\n",
       "      <td>NaN</td>\n",
       "      <td>1</td>\n",
       "      <td>1</td>\n",
       "      <td>0.0</td>\n",
       "      <td></td>\n",
       "      <td>65</td>\n",
       "      <td>110</td>\n",
       "    </tr>\n",
       "  </tbody>\n",
       "</table>\n",
       "</div>"
      ],
      "text/plain": [
       "     FAKEID  Y3defect  Y2G5  Y2G4  Y2G3  Y2G2  Y2G1  Y2price  YEARS  BACKER  \\\n",
       "0  580D24RR       NaN     0     0     1     1     0       15      5       0   \n",
       "1  179Q96NO       NaN     1     1     1     1     1       25      9       1   \n",
       "2  050Z45TB       NaN     1     0     1     1     0       15      5       1   \n",
       "3  399V18KY       NaN     0     0     1     1     0       15      1       0   \n",
       "4  009A52KP       NaN     0     1     0     1     0       25      9       1   \n",
       "\n",
       "    AGE INCOME CHILD GNDR OWNHOME  SPORT COMP  PCTMARR  HOMEVAL  \n",
       "0  49.0      4   NaN    0       1    0.0            66       64  \n",
       "1  84.0      5          0            0.0            67      128  \n",
       "2   NaN          NaN    0       0    NaN    1       52      113  \n",
       "3  34.0      4     1    0       1    NaN            65       81  \n",
       "4  59.0      4   NaN    1       1    0.0            65      110  "
      ]
     },
     "execution_count": 1686,
     "metadata": {},
     "output_type": "execute_result"
    }
   ],
   "source": [
    "df1 = pd.read_excel(\"validation_dataset.xlsx\") # retrieving validation set\n",
    "df1.head()"
   ]
  },
  {
   "cell_type": "code",
   "execution_count": 1687,
   "metadata": {},
   "outputs": [
    {
     "name": "stdout",
     "output_type": "stream",
     "text": [
      "<class 'pandas.core.frame.DataFrame'>\n",
      "RangeIndex: 9542 entries, 0 to 9541\n",
      "Data columns (total 19 columns):\n",
      "FAKEID      9542 non-null object\n",
      "Y3defect    0 non-null float64\n",
      "Y2G5        9542 non-null int64\n",
      "Y2G4        9542 non-null int64\n",
      "Y2G3        9542 non-null int64\n",
      "Y2G2        9542 non-null int64\n",
      "Y2G1        9542 non-null int64\n",
      "Y2price     9542 non-null int64\n",
      "YEARS       9542 non-null int64\n",
      "BACKER      9542 non-null int64\n",
      "AGE         7055 non-null float64\n",
      "INCOME      9542 non-null object\n",
      "CHILD       4810 non-null object\n",
      "GNDR        9542 non-null object\n",
      "OWNHOME     9542 non-null object\n",
      "SPORT       4180 non-null float64\n",
      "COMP        9542 non-null object\n",
      "PCTMARR     9542 non-null int64\n",
      "HOMEVAL     9542 non-null int64\n",
      "dtypes: float64(3), int64(10), object(6)\n",
      "memory usage: 1.4+ MB\n"
     ]
    }
   ],
   "source": [
    "df1.info() # discovering the columns variable types and how many variables are filled in each column"
   ]
  },
  {
   "cell_type": "code",
   "execution_count": 1688,
   "metadata": {
    "collapsed": true
   },
   "outputs": [],
   "source": [
    "df1 = df1.drop(['Y3defect','CHILD','SPORT','COMP','OWNHOME'], axis = 1) # dropping usless columns"
   ]
  },
  {
   "cell_type": "code",
   "execution_count": 1689,
   "metadata": {},
   "outputs": [
    {
     "data": {
      "text/plain": [
       "FAKEID        0\n",
       "Y2G5          0\n",
       "Y2G4          0\n",
       "Y2G3          0\n",
       "Y2G2          0\n",
       "Y2G1          0\n",
       "Y2price       0\n",
       "YEARS         0\n",
       "BACKER        0\n",
       "AGE        2487\n",
       "INCOME        0\n",
       "GNDR          0\n",
       "PCTMARR       0\n",
       "HOMEVAL       0\n",
       "dtype: int64"
      ]
     },
     "execution_count": 1689,
     "metadata": {},
     "output_type": "execute_result"
    }
   ],
   "source": [
    "df1.isnull().sum() # checking nulls"
   ]
  },
  {
   "cell_type": "code",
   "execution_count": 1690,
   "metadata": {
    "collapsed": true
   },
   "outputs": [],
   "source": [
    "c = 0 # changing any wrongly inputed variables to nulls\n",
    "for i in df1.AGE:\n",
    "    if type(i) != float:\n",
    "        i = None\n",
    "    df1.loc[c,'AGE'] = i\n",
    "    c = c + 1"
   ]
  },
  {
   "cell_type": "code",
   "execution_count": 1691,
   "metadata": {
    "collapsed": true
   },
   "outputs": [],
   "source": [
    "c = 0 # changing any wrongly inputed variables to nulls\n",
    "for i in df1.INCOME:\n",
    "    if type(i) != int:\n",
    "        i = None\n",
    "    df1.loc[c,'INCOME'] = i\n",
    "    c = c + 1"
   ]
  },
  {
   "cell_type": "code",
   "execution_count": 1692,
   "metadata": {
    "collapsed": true
   },
   "outputs": [],
   "source": [
    "c = 0 # changing any wrongly inputed variables to nulls\n",
    "for i in df1.GNDR:\n",
    "    if type(i) != int:\n",
    "        i = None\n",
    "    df1.loc[c,'GNDR'] = i\n",
    "    c = c + 1"
   ]
  },
  {
   "cell_type": "code",
   "execution_count": 1693,
   "metadata": {},
   "outputs": [
    {
     "data": {
      "text/plain": [
       "62.11141034727144"
      ]
     },
     "execution_count": 1693,
     "metadata": {},
     "output_type": "execute_result"
    }
   ],
   "source": [
    "df1.AGE.mean() #checking validations age mean"
   ]
  },
  {
   "cell_type": "code",
   "execution_count": 1694,
   "metadata": {},
   "outputs": [
    {
     "data": {
      "text/plain": [
       "2.879332117300407"
      ]
     },
     "execution_count": 1694,
     "metadata": {},
     "output_type": "execute_result"
    }
   ],
   "source": [
    "df1.INCOME.mean() # checking validations income mean"
   ]
  },
  {
   "cell_type": "code",
   "execution_count": 1695,
   "metadata": {},
   "outputs": [
    {
     "data": {
      "text/html": [
       "<div>\n",
       "<style scoped>\n",
       "    .dataframe tbody tr th:only-of-type {\n",
       "        vertical-align: middle;\n",
       "    }\n",
       "\n",
       "    .dataframe tbody tr th {\n",
       "        vertical-align: top;\n",
       "    }\n",
       "\n",
       "    .dataframe thead th {\n",
       "        text-align: right;\n",
       "    }\n",
       "</style>\n",
       "<table border=\"1\" class=\"dataframe\">\n",
       "  <thead>\n",
       "    <tr style=\"text-align: right;\">\n",
       "      <th></th>\n",
       "      <th>FAKEID</th>\n",
       "      <th>Y2G5</th>\n",
       "      <th>Y2G4</th>\n",
       "      <th>Y2G3</th>\n",
       "      <th>Y2G2</th>\n",
       "      <th>Y2G1</th>\n",
       "      <th>Y2price</th>\n",
       "      <th>YEARS</th>\n",
       "      <th>BACKER</th>\n",
       "      <th>AGE</th>\n",
       "      <th>INCOME</th>\n",
       "      <th>PCTMARR</th>\n",
       "      <th>HOMEVAL</th>\n",
       "    </tr>\n",
       "    <tr>\n",
       "      <th>GNDR</th>\n",
       "      <th></th>\n",
       "      <th></th>\n",
       "      <th></th>\n",
       "      <th></th>\n",
       "      <th></th>\n",
       "      <th></th>\n",
       "      <th></th>\n",
       "      <th></th>\n",
       "      <th></th>\n",
       "      <th></th>\n",
       "      <th></th>\n",
       "      <th></th>\n",
       "      <th></th>\n",
       "    </tr>\n",
       "  </thead>\n",
       "  <tbody>\n",
       "    <tr>\n",
       "      <th>0</th>\n",
       "      <td>5117</td>\n",
       "      <td>5117</td>\n",
       "      <td>5117</td>\n",
       "      <td>5117</td>\n",
       "      <td>5117</td>\n",
       "      <td>5117</td>\n",
       "      <td>5117</td>\n",
       "      <td>5117</td>\n",
       "      <td>5117</td>\n",
       "      <td>3795</td>\n",
       "      <td>3869</td>\n",
       "      <td>5117</td>\n",
       "      <td>5117</td>\n",
       "    </tr>\n",
       "    <tr>\n",
       "      <th>1</th>\n",
       "      <td>3860</td>\n",
       "      <td>3860</td>\n",
       "      <td>3860</td>\n",
       "      <td>3860</td>\n",
       "      <td>3860</td>\n",
       "      <td>3860</td>\n",
       "      <td>3860</td>\n",
       "      <td>3860</td>\n",
       "      <td>3860</td>\n",
       "      <td>3024</td>\n",
       "      <td>3063</td>\n",
       "      <td>3860</td>\n",
       "      <td>3860</td>\n",
       "    </tr>\n",
       "  </tbody>\n",
       "</table>\n",
       "</div>"
      ],
      "text/plain": [
       "      FAKEID  Y2G5  Y2G4  Y2G3  Y2G2  Y2G1  Y2price  YEARS  BACKER   AGE  \\\n",
       "GNDR                                                                       \n",
       "0       5117  5117  5117  5117  5117  5117     5117   5117    5117  3795   \n",
       "1       3860  3860  3860  3860  3860  3860     3860   3860    3860  3024   \n",
       "\n",
       "      INCOME  PCTMARR  HOMEVAL  \n",
       "GNDR                            \n",
       "0       3869     5117     5117  \n",
       "1       3063     3860     3860  "
      ]
     },
     "execution_count": 1695,
     "metadata": {},
     "output_type": "execute_result"
    }
   ],
   "source": [
    "df1.groupby('GNDR').count() # checking how many males and females are in the dataset"
   ]
  },
  {
   "cell_type": "markdown",
   "metadata": {
    "collapsed": true
   },
   "source": [
    "c = 0\n",
    "for i in df1.AGE:\n",
    "    if i == None:\n",
    "        i = 62\n",
    "    df1.loc[c,'AGE'] = i\n",
    "    c = c + 1"
   ]
  },
  {
   "cell_type": "code",
   "execution_count": 1696,
   "metadata": {},
   "outputs": [
    {
     "name": "stdout",
     "output_type": "stream",
     "text": [
      "<class 'pandas.core.frame.DataFrame'>\n",
      "Int64Index: 6043 entries, 0 to 9541\n",
      "Data columns (total 14 columns):\n",
      "FAKEID     6043 non-null object\n",
      "Y2G5       6043 non-null int64\n",
      "Y2G4       6043 non-null int64\n",
      "Y2G3       6043 non-null int64\n",
      "Y2G2       6043 non-null int64\n",
      "Y2G1       6043 non-null int64\n",
      "Y2price    6043 non-null int64\n",
      "YEARS      6043 non-null int64\n",
      "BACKER     6043 non-null int64\n",
      "AGE        6043 non-null float64\n",
      "INCOME     6043 non-null object\n",
      "GNDR       6043 non-null object\n",
      "PCTMARR    6043 non-null int64\n",
      "HOMEVAL    6043 non-null int64\n",
      "dtypes: float64(1), int64(10), object(3)\n",
      "memory usage: 708.2+ KB\n"
     ]
    }
   ],
   "source": [
    "df1 = df1.dropna(how='any') # dropping all nulls\n",
    "df1.info() # checking if data is clean"
   ]
  },
  {
   "cell_type": "code",
   "execution_count": 1697,
   "metadata": {
    "scrolled": true
   },
   "outputs": [
    {
     "name": "stdout",
     "output_type": "stream",
     "text": [
      "<class 'pandas.core.frame.DataFrame'>\n",
      "Int64Index: 6043 entries, 0 to 9541\n",
      "Data columns (total 14 columns):\n",
      "FAKEID     6043 non-null object\n",
      "Y2G5       6043 non-null int64\n",
      "Y2G4       6043 non-null int64\n",
      "Y2G3       6043 non-null int64\n",
      "Y2G2       6043 non-null int64\n",
      "Y2G1       6043 non-null int64\n",
      "Y2price    6043 non-null int64\n",
      "YEARS      6043 non-null int64\n",
      "BACKER     6043 non-null int64\n",
      "AGE        6043 non-null int32\n",
      "INCOME     6043 non-null object\n",
      "GNDR       6043 non-null object\n",
      "PCTMARR    6043 non-null int64\n",
      "HOMEVAL    6043 non-null int64\n",
      "dtypes: int32(1), int64(10), object(3)\n",
      "memory usage: 684.6+ KB\n"
     ]
    }
   ],
   "source": [
    "df1['AGE'] = df1['AGE'].astype(int) # changing variable type to int\n",
    "df1.info()"
   ]
  },
  {
   "cell_type": "code",
   "execution_count": 1698,
   "metadata": {},
   "outputs": [
    {
     "data": {
      "text/plain": [
       "FAKEID     0\n",
       "Y2G5       0\n",
       "Y2G4       0\n",
       "Y2G3       0\n",
       "Y2G2       0\n",
       "Y2G1       0\n",
       "Y2price    0\n",
       "YEARS      0\n",
       "BACKER     0\n",
       "AGE        0\n",
       "INCOME     0\n",
       "GNDR       0\n",
       "PCTMARR    0\n",
       "HOMEVAL    0\n",
       "dtype: int64"
      ]
     },
     "execution_count": 1698,
     "metadata": {},
     "output_type": "execute_result"
    }
   ],
   "source": [
    "df1.isnull().sum() # checking nulls"
   ]
  },
  {
   "cell_type": "code",
   "execution_count": 1699,
   "metadata": {},
   "outputs": [
    {
     "data": {
      "text/html": [
       "<div>\n",
       "<style scoped>\n",
       "    .dataframe tbody tr th:only-of-type {\n",
       "        vertical-align: middle;\n",
       "    }\n",
       "\n",
       "    .dataframe tbody tr th {\n",
       "        vertical-align: top;\n",
       "    }\n",
       "\n",
       "    .dataframe thead th {\n",
       "        text-align: right;\n",
       "    }\n",
       "</style>\n",
       "<table border=\"1\" class=\"dataframe\">\n",
       "  <thead>\n",
       "    <tr style=\"text-align: right;\">\n",
       "      <th></th>\n",
       "      <th>FAKEID</th>\n",
       "      <th>Y2G5</th>\n",
       "      <th>Y2G4</th>\n",
       "      <th>Y2G3</th>\n",
       "      <th>Y2G2</th>\n",
       "      <th>Y2G1</th>\n",
       "      <th>Y2price</th>\n",
       "      <th>YEARS</th>\n",
       "      <th>BACKER</th>\n",
       "      <th>AGE</th>\n",
       "      <th>INCOME</th>\n",
       "      <th>GNDR</th>\n",
       "      <th>PCTMARR</th>\n",
       "      <th>HOMEVAL</th>\n",
       "    </tr>\n",
       "  </thead>\n",
       "  <tbody>\n",
       "    <tr>\n",
       "      <th>0</th>\n",
       "      <td>580D24RR</td>\n",
       "      <td>0</td>\n",
       "      <td>0</td>\n",
       "      <td>1</td>\n",
       "      <td>1</td>\n",
       "      <td>0</td>\n",
       "      <td>15</td>\n",
       "      <td>5</td>\n",
       "      <td>0</td>\n",
       "      <td>49</td>\n",
       "      <td>4</td>\n",
       "      <td>0</td>\n",
       "      <td>66</td>\n",
       "      <td>64</td>\n",
       "    </tr>\n",
       "    <tr>\n",
       "      <th>1</th>\n",
       "      <td>179Q96NO</td>\n",
       "      <td>1</td>\n",
       "      <td>1</td>\n",
       "      <td>1</td>\n",
       "      <td>1</td>\n",
       "      <td>1</td>\n",
       "      <td>25</td>\n",
       "      <td>9</td>\n",
       "      <td>1</td>\n",
       "      <td>84</td>\n",
       "      <td>5</td>\n",
       "      <td>0</td>\n",
       "      <td>67</td>\n",
       "      <td>128</td>\n",
       "    </tr>\n",
       "    <tr>\n",
       "      <th>3</th>\n",
       "      <td>399V18KY</td>\n",
       "      <td>0</td>\n",
       "      <td>0</td>\n",
       "      <td>1</td>\n",
       "      <td>1</td>\n",
       "      <td>0</td>\n",
       "      <td>15</td>\n",
       "      <td>1</td>\n",
       "      <td>0</td>\n",
       "      <td>34</td>\n",
       "      <td>4</td>\n",
       "      <td>0</td>\n",
       "      <td>65</td>\n",
       "      <td>81</td>\n",
       "    </tr>\n",
       "    <tr>\n",
       "      <th>4</th>\n",
       "      <td>009A52KP</td>\n",
       "      <td>0</td>\n",
       "      <td>1</td>\n",
       "      <td>0</td>\n",
       "      <td>1</td>\n",
       "      <td>0</td>\n",
       "      <td>25</td>\n",
       "      <td>9</td>\n",
       "      <td>1</td>\n",
       "      <td>59</td>\n",
       "      <td>4</td>\n",
       "      <td>1</td>\n",
       "      <td>65</td>\n",
       "      <td>110</td>\n",
       "    </tr>\n",
       "    <tr>\n",
       "      <th>5</th>\n",
       "      <td>059D43VJ</td>\n",
       "      <td>0</td>\n",
       "      <td>0</td>\n",
       "      <td>0</td>\n",
       "      <td>0</td>\n",
       "      <td>1</td>\n",
       "      <td>15</td>\n",
       "      <td>1</td>\n",
       "      <td>0</td>\n",
       "      <td>69</td>\n",
       "      <td>6</td>\n",
       "      <td>0</td>\n",
       "      <td>69</td>\n",
       "      <td>192</td>\n",
       "    </tr>\n",
       "  </tbody>\n",
       "</table>\n",
       "</div>"
      ],
      "text/plain": [
       "     FAKEID  Y2G5  Y2G4  Y2G3  Y2G2  Y2G1  Y2price  YEARS  BACKER  AGE INCOME  \\\n",
       "0  580D24RR     0     0     1     1     0       15      5       0   49      4   \n",
       "1  179Q96NO     1     1     1     1     1       25      9       1   84      5   \n",
       "3  399V18KY     0     0     1     1     0       15      1       0   34      4   \n",
       "4  009A52KP     0     1     0     1     0       25      9       1   59      4   \n",
       "5  059D43VJ     0     0     0     0     1       15      1       0   69      6   \n",
       "\n",
       "  GNDR  PCTMARR  HOMEVAL  \n",
       "0    0       66       64  \n",
       "1    0       67      128  \n",
       "3    0       65       81  \n",
       "4    1       65      110  \n",
       "5    0       69      192  "
      ]
     },
     "execution_count": 1699,
     "metadata": {},
     "output_type": "execute_result"
    }
   ],
   "source": [
    "df1.head() # displaying first 5 rows"
   ]
  },
  {
   "cell_type": "markdown",
   "metadata": {},
   "source": [
    "## Model Deployment & Prepare Entry Data"
   ]
  },
  {
   "cell_type": "code",
   "execution_count": 1700,
   "metadata": {},
   "outputs": [
    {
     "name": "stdout",
     "output_type": "stream",
     "text": [
      "<class 'pandas.core.frame.DataFrame'>\n",
      "Int64Index: 6043 entries, 0 to 9541\n",
      "Data columns (total 5 columns):\n",
      "Y2G5    6043 non-null int64\n",
      "Y2G4    6043 non-null int64\n",
      "Y2G3    6043 non-null int64\n",
      "Y2G2    6043 non-null int64\n",
      "Y2G1    6043 non-null int64\n",
      "dtypes: int64(5)\n",
      "memory usage: 283.3 KB\n"
     ]
    }
   ],
   "source": [
    "validation = df1.drop(['FAKEID','HOMEVAL','PCTMARR','GNDR','AGE','INCOME','Y2price','YEARS','BACKER'],axis=1) # dropping columns\n",
    "validation.info() # showing what columns will be used for test"
   ]
  },
  {
   "cell_type": "code",
   "execution_count": 1701,
   "metadata": {
    "scrolled": false
   },
   "outputs": [
    {
     "data": {
      "text/html": [
       "<div>\n",
       "<style scoped>\n",
       "    .dataframe tbody tr th:only-of-type {\n",
       "        vertical-align: middle;\n",
       "    }\n",
       "\n",
       "    .dataframe tbody tr th {\n",
       "        vertical-align: top;\n",
       "    }\n",
       "\n",
       "    .dataframe thead th {\n",
       "        text-align: right;\n",
       "    }\n",
       "</style>\n",
       "<table border=\"1\" class=\"dataframe\">\n",
       "  <thead>\n",
       "    <tr style=\"text-align: right;\">\n",
       "      <th></th>\n",
       "      <th>FAKEID</th>\n",
       "    </tr>\n",
       "  </thead>\n",
       "  <tbody>\n",
       "    <tr>\n",
       "      <th>0</th>\n",
       "      <td>580D24RR</td>\n",
       "    </tr>\n",
       "    <tr>\n",
       "      <th>1</th>\n",
       "      <td>179Q96NO</td>\n",
       "    </tr>\n",
       "    <tr>\n",
       "      <th>3</th>\n",
       "      <td>399V18KY</td>\n",
       "    </tr>\n",
       "    <tr>\n",
       "      <th>4</th>\n",
       "      <td>009A52KP</td>\n",
       "    </tr>\n",
       "    <tr>\n",
       "      <th>5</th>\n",
       "      <td>059D43VJ</td>\n",
       "    </tr>\n",
       "  </tbody>\n",
       "</table>\n",
       "</div>"
      ],
      "text/plain": [
       "     FAKEID\n",
       "0  580D24RR\n",
       "1  179Q96NO\n",
       "3  399V18KY\n",
       "4  009A52KP\n",
       "5  059D43VJ"
      ]
     },
     "execution_count": 1701,
     "metadata": {},
     "output_type": "execute_result"
    }
   ],
   "source": [
    "fakeid = pd.DataFrame(df1['FAKEID']) # making new dataframe\n",
    "fakeid.head()"
   ]
  },
  {
   "cell_type": "code",
   "execution_count": 1702,
   "metadata": {},
   "outputs": [],
   "source": [
    "# applying the decision tree model to validation dataset\n",
    "output_scoring = dt.predict(validation)\n",
    "\n",
    "# generating probability for defect for each fan\n",
    "probs = dt.predict_proba(validation)\n",
    "probs = pd.DataFrame(probs, columns=['prob of Renewal', 'prob of Defect'])\n",
    "\n",
    "# joining two dataframes (fakeid and probability)\n",
    "risky_fans = fakeid.join(probs)\n",
    "\n",
    "# joining dataframes (fakeid, probability, and prediction)\n",
    "predicted_y= pd.DataFrame(output_scoring, columns=['Predicted Defect'])\n",
    "risky_fans = risky_fans.join(predicted_y)\n",
    "\n",
    "# generating submission file\n",
    "risky_fans.to_csv(\"submissionentry1.csv\", index=False)"
   ]
  },
  {
   "cell_type": "markdown",
   "metadata": {
    "collapsed": true
   },
   "source": [
    "## Data Visualization"
   ]
  },
  {
   "cell_type": "code",
   "execution_count": 1703,
   "metadata": {},
   "outputs": [
    {
     "data": {
      "text/plain": [
       "array([[<matplotlib.axes._subplots.AxesSubplot object at 0x00000000BDE2CCC0>,\n",
       "        <matplotlib.axes._subplots.AxesSubplot object at 0x00000000BD8215C0>,\n",
       "        <matplotlib.axes._subplots.AxesSubplot object at 0x00000000BDA76470>,\n",
       "        <matplotlib.axes._subplots.AxesSubplot object at 0x00000000BBCDA4E0>],\n",
       "       [<matplotlib.axes._subplots.AxesSubplot object at 0x00000000BB365128>,\n",
       "        <matplotlib.axes._subplots.AxesSubplot object at 0x00000000BDA11278>,\n",
       "        <matplotlib.axes._subplots.AxesSubplot object at 0x00000000BDE77208>,\n",
       "        <matplotlib.axes._subplots.AxesSubplot object at 0x00000000BDE77AC8>],\n",
       "       [<matplotlib.axes._subplots.AxesSubplot object at 0x00000000BDE0FBA8>,\n",
       "        <matplotlib.axes._subplots.AxesSubplot object at 0x00000000BDFE0EB8>,\n",
       "        <matplotlib.axes._subplots.AxesSubplot object at 0x00000000BDE1DB38>,\n",
       "        <matplotlib.axes._subplots.AxesSubplot object at 0x00000000BE373C88>],\n",
       "       [<matplotlib.axes._subplots.AxesSubplot object at 0x00000000BE116908>,\n",
       "        <matplotlib.axes._subplots.AxesSubplot object at 0x00000000BE359BA8>,\n",
       "        <matplotlib.axes._subplots.AxesSubplot object at 0x00000000BE8BE7B8>,\n",
       "        <matplotlib.axes._subplots.AxesSubplot object at 0x00000000BE991898>]],\n",
       "      dtype=object)"
      ]
     },
     "execution_count": 1703,
     "metadata": {},
     "output_type": "execute_result"
    },
    {
     "data": {
      "image/png": "[encoded data removed]",
      "text/plain": [
       "<matplotlib.figure.Figure at 0xbddf1898>"
      ]
     },
     "metadata": {},
     "output_type": "display_data"
    }
   ],
   "source": [
    "df.hist(figsize=(25,25)) # displaying histograms"
   ]
  },
  {
   "cell_type": "code",
   "execution_count": 1704,
   "metadata": {},
   "outputs": [
    {
     "data": {
      "text/plain": [
       "<matplotlib.axes._subplots.AxesSubplot at 0xbf612550>"
      ]
     },
     "execution_count": 1704,
     "metadata": {},
     "output_type": "execute_result"
    },
    {
     "data": {
      "image/png": "[encoded data removed]",
      "text/plain": [
       "<matplotlib.figure.Figure at 0xb79fa860>"
      ]
     },
     "metadata": {},
     "output_type": "display_data"
    }
   ],
   "source": [
    "sns.boxplot([df.Y2defect, df.INCOME]) # created boxplot to compare defects to income"
   ]
  },
  {
   "cell_type": "code",
   "execution_count": 1705,
   "metadata": {},
   "outputs": [
    {
     "data": {
      "text/html": [
       "<div>\n",
       "<style scoped>\n",
       "    .dataframe tbody tr th:only-of-type {\n",
       "        vertical-align: middle;\n",
       "    }\n",
       "\n",
       "    .dataframe tbody tr th {\n",
       "        vertical-align: top;\n",
       "    }\n",
       "\n",
       "    .dataframe thead th {\n",
       "        text-align: right;\n",
       "    }\n",
       "</style>\n",
       "<table border=\"1\" class=\"dataframe\">\n",
       "  <thead>\n",
       "    <tr style=\"text-align: right;\">\n",
       "      <th></th>\n",
       "      <th>FAKEID</th>\n",
       "      <th>Y1G5</th>\n",
       "      <th>Y1G4</th>\n",
       "      <th>Y1G3</th>\n",
       "      <th>Y1G2</th>\n",
       "      <th>Y1G1</th>\n",
       "      <th>Y1price</th>\n",
       "      <th>YEARS</th>\n",
       "      <th>BACKER</th>\n",
       "      <th>AGE</th>\n",
       "      <th>INCOME</th>\n",
       "      <th>GNDR</th>\n",
       "      <th>PCTMARR</th>\n",
       "      <th>HOMEVAL</th>\n",
       "    </tr>\n",
       "    <tr>\n",
       "      <th>Y2defect</th>\n",
       "      <th></th>\n",
       "      <th></th>\n",
       "      <th></th>\n",
       "      <th></th>\n",
       "      <th></th>\n",
       "      <th></th>\n",
       "      <th></th>\n",
       "      <th></th>\n",
       "      <th></th>\n",
       "      <th></th>\n",
       "      <th></th>\n",
       "      <th></th>\n",
       "      <th></th>\n",
       "      <th></th>\n",
       "    </tr>\n",
       "  </thead>\n",
       "  <tbody>\n",
       "    <tr>\n",
       "      <th>0</th>\n",
       "      <td>3132</td>\n",
       "      <td>3132</td>\n",
       "      <td>3132</td>\n",
       "      <td>3132</td>\n",
       "      <td>3132</td>\n",
       "      <td>3132</td>\n",
       "      <td>3132</td>\n",
       "      <td>3132</td>\n",
       "      <td>3132</td>\n",
       "      <td>3132</td>\n",
       "      <td>3132</td>\n",
       "      <td>3132</td>\n",
       "      <td>3132</td>\n",
       "      <td>3132</td>\n",
       "    </tr>\n",
       "    <tr>\n",
       "      <th>1</th>\n",
       "      <td>3082</td>\n",
       "      <td>3082</td>\n",
       "      <td>3082</td>\n",
       "      <td>3082</td>\n",
       "      <td>3082</td>\n",
       "      <td>3082</td>\n",
       "      <td>3082</td>\n",
       "      <td>3082</td>\n",
       "      <td>3082</td>\n",
       "      <td>3082</td>\n",
       "      <td>3082</td>\n",
       "      <td>3082</td>\n",
       "      <td>3082</td>\n",
       "      <td>3082</td>\n",
       "    </tr>\n",
       "  </tbody>\n",
       "</table>\n",
       "</div>"
      ],
      "text/plain": [
       "          FAKEID  Y1G5  Y1G4  Y1G3  Y1G2  Y1G1  Y1price  YEARS  BACKER   AGE  \\\n",
       "Y2defect                                                                       \n",
       "0           3132  3132  3132  3132  3132  3132     3132   3132    3132  3132   \n",
       "1           3082  3082  3082  3082  3082  3082     3082   3082    3082  3082   \n",
       "\n",
       "          INCOME  GNDR  PCTMARR  HOMEVAL  \n",
       "Y2defect                                  \n",
       "0           3132  3132     3132     3132  \n",
       "1           3082  3082     3082     3082  "
      ]
     },
     "execution_count": 1705,
     "metadata": {},
     "output_type": "execute_result"
    }
   ],
   "source": [
    "df.groupby(['Y2defect']).count() # checked non renewals to renewals"
   ]
  },
  {
   "cell_type": "code",
   "execution_count": 1706,
   "metadata": {},
   "outputs": [
    {
     "name": "stdout",
     "output_type": "stream",
     "text": [
      "<class 'pandas.core.frame.DataFrame'>\n",
      "Int64Index: 6214 entries, 0 to 9215\n",
      "Data columns (total 15 columns):\n",
      "FAKEID      6214 non-null object\n",
      "Y2defect    6214 non-null int64\n",
      "Y1G5        6214 non-null int64\n",
      "Y1G4        6214 non-null int64\n",
      "Y1G3        6214 non-null int64\n",
      "Y1G2        6214 non-null int64\n",
      "Y1G1        6214 non-null int64\n",
      "Y1price     6214 non-null int64\n",
      "YEARS       6214 non-null int64\n",
      "BACKER      6214 non-null int64\n",
      "AGE         6214 non-null int32\n",
      "INCOME      6214 non-null int32\n",
      "GNDR        6214 non-null int32\n",
      "PCTMARR     6214 non-null int64\n",
      "HOMEVAL     6214 non-null int64\n",
      "dtypes: int32(3), int64(11), object(1)\n",
      "memory usage: 863.9+ KB\n"
     ]
    }
   ],
   "source": [
    "df.info() # checked how much data is left"
   ]
  },
  {
   "cell_type": "code",
   "execution_count": 1707,
   "metadata": {},
   "outputs": [
    {
     "data": {
      "text/plain": [
       "<seaborn.axisgrid.FacetGrid at 0xbf386c88>"
      ]
     },
     "execution_count": 1707,
     "metadata": {},
     "output_type": "execute_result"
    },
    {
     "data": {
      "image/png": "[encoded data removed]",
      "text/plain": [
       "<matplotlib.figure.Figure at 0xbf3867f0>"
      ]
     },
     "metadata": {},
     "output_type": "display_data"
    }
   ],
   "source": [
    "sns.factorplot(\"AGE\",\"Y2defect\", data=df, size = 10, aspect = 2) # created factorplot comparing age to defecting"
   ]
  },
  {
   "cell_type": "code",
   "execution_count": 1708,
   "metadata": {
    "scrolled": false
   },
   "outputs": [
    {
     "data": {
      "text/plain": [
       "<seaborn.axisgrid.FacetGrid at 0xbf61e4a8>"
      ]
     },
     "execution_count": 1708,
     "metadata": {},
     "output_type": "execute_result"
    },
    {
     "data": {
      "image/png": "[encoded data removed]",
      "text/plain": [
       "<matplotlib.figure.Figure at 0xbf634da0>"
      ]
     },
     "metadata": {},
     "output_type": "display_data"
    }
   ],
   "source": [
    "g = sns.FacetGrid(df,col=\"Y2defect\") # created a facetgrid\n",
    "g.map(plt.hist,\"INCOME\") # developed a histogram from previously created facetgrid"
   ]
  },
  {
   "cell_type": "code",
   "execution_count": 1709,
   "metadata": {},
   "outputs": [
    {
     "data": {
      "text/plain": [
       "<seaborn.axisgrid.FacetGrid at 0xc1674048>"
      ]
     },
     "execution_count": 1709,
     "metadata": {},
     "output_type": "execute_result"
    },
    {
     "data": {
      "image/png": "[encoded data removed]",
      "text/plain": [
       "<matplotlib.figure.Figure at 0xc13142e8>"
      ]
     },
     "metadata": {},
     "output_type": "display_data"
    }
   ],
   "source": [
    "g = sns.FacetGrid(df,col=\"Y2defect\") # created a facetgrid\n",
    "g.map(plt.hist,\"BACKER\") # developed a histogram from previously created facetgrid"
   ]
  },
  {
   "cell_type": "code",
   "execution_count": 1710,
   "metadata": {},
   "outputs": [
    {
     "data": {
      "text/plain": [
       "<seaborn.axisgrid.FacetGrid at 0xc16a9c50>"
      ]
     },
     "execution_count": 1710,
     "metadata": {},
     "output_type": "execute_result"
    },
    {
     "data": {
      "image/png": "[encoded data removed]",
      "text/plain": [
       "<matplotlib.figure.Figure at 0xc1696eb8>"
      ]
     },
     "metadata": {},
     "output_type": "display_data"
    }
   ],
   "source": [
    "g = sns.FacetGrid(df,col=\"Y2defect\") # created a facetgrid\n",
    "g.map(plt.hist,\"GNDR\") # developed a histogram from previously created facetgrid"
   ]
  },
  {
   "cell_type": "code",
   "execution_count": 1711,
   "metadata": {},
   "outputs": [
    {
     "data": {
      "text/plain": [
       "<seaborn.axisgrid.FacetGrid at 0xc1b2b7f0>"
      ]
     },
     "execution_count": 1711,
     "metadata": {},
     "output_type": "execute_result"
    },
    {
     "data": {
      "image/png": "[encoded data removed]",
      "text/plain": [
       "<matplotlib.figure.Figure at 0xc1b2bb38>"
      ]
     },
     "metadata": {},
     "output_type": "display_data"
    }
   ],
   "source": [
    "g = sns.FacetGrid(df,col=\"Y2defect\") # created a facetgrid\n",
    "g.map(plt.hist,\"AGE\") # developed a histogram from previously created facetgrid"
   ]
  },
  {
   "cell_type": "code",
   "execution_count": 1712,
   "metadata": {},
   "outputs": [
    {
     "data": {
      "text/plain": [
       "<seaborn.axisgrid.FacetGrid at 0xc1f89710>"
      ]
     },
     "execution_count": 1712,
     "metadata": {},
     "output_type": "execute_result"
    },
    {
     "data": {
      "image/png": "[encoded data removed]",
      "text/plain": [
       "<matplotlib.figure.Figure at 0xc1f89748>"
      ]
     },
     "metadata": {},
     "output_type": "display_data"
    }
   ],
   "source": [
    "g = sns.FacetGrid(df,col=\"Y2defect\") # created a facetgrid\n",
    "g.map(plt.hist,\"Y1G1\") # developed a histogram from previously created facetgrid"
   ]
  },
  {
   "cell_type": "code",
   "execution_count": 1713,
   "metadata": {},
   "outputs": [
    {
     "data": {
      "text/plain": [
       "<seaborn.axisgrid.JointGrid at 0xc22ad978>"
      ]
     },
     "execution_count": 1713,
     "metadata": {},
     "output_type": "execute_result"
    },
    {
     "data": {
      "image/png": "[encoded data removed]",
      "text/plain": [
       "<matplotlib.figure.Figure at 0xc22ad048>"
      ]
     },
     "metadata": {},
     "output_type": "display_data"
    }
   ],
   "source": [
    "sns.jointplot(x=\"INCOME\", y=\"Y2defect\",data=df,kind=\"hex\") # displayed a jointplot comparing income to defects"
   ]
  },
  {
   "cell_type": "markdown",
   "metadata": {},
   "source": [
    "## Exploratory/Statistical Data Analysis"
   ]
  },
  {
   "cell_type": "code",
   "execution_count": 1714,
   "metadata": {},
   "outputs": [
    {
     "data": {
      "text/html": [
       "<div>\n",
       "<style scoped>\n",
       "    .dataframe tbody tr th:only-of-type {\n",
       "        vertical-align: middle;\n",
       "    }\n",
       "\n",
       "    .dataframe tbody tr th {\n",
       "        vertical-align: top;\n",
       "    }\n",
       "\n",
       "    .dataframe thead th {\n",
       "        text-align: right;\n",
       "    }\n",
       "</style>\n",
       "<table border=\"1\" class=\"dataframe\">\n",
       "  <thead>\n",
       "    <tr style=\"text-align: right;\">\n",
       "      <th></th>\n",
       "      <th>Y2defect</th>\n",
       "      <th>Y1G5</th>\n",
       "      <th>Y1G4</th>\n",
       "      <th>Y1G3</th>\n",
       "      <th>Y1G2</th>\n",
       "      <th>Y1G1</th>\n",
       "      <th>Y1price</th>\n",
       "      <th>YEARS</th>\n",
       "      <th>BACKER</th>\n",
       "      <th>AGE</th>\n",
       "      <th>INCOME</th>\n",
       "      <th>GNDR</th>\n",
       "      <th>PCTMARR</th>\n",
       "      <th>HOMEVAL</th>\n",
       "    </tr>\n",
       "  </thead>\n",
       "  <tbody>\n",
       "    <tr>\n",
       "      <th>Y2defect</th>\n",
       "      <td>1.000000</td>\n",
       "      <td>-0.097838</td>\n",
       "      <td>0.041228</td>\n",
       "      <td>-0.037153</td>\n",
       "      <td>-0.109527</td>\n",
       "      <td>-0.144940</td>\n",
       "      <td>-0.011480</td>\n",
       "      <td>-0.127372</td>\n",
       "      <td>-0.181988</td>\n",
       "      <td>-0.020781</td>\n",
       "      <td>0.011495</td>\n",
       "      <td>-0.002571</td>\n",
       "      <td>-0.011746</td>\n",
       "      <td>0.035777</td>\n",
       "    </tr>\n",
       "    <tr>\n",
       "      <th>Y1G5</th>\n",
       "      <td>-0.097838</td>\n",
       "      <td>1.000000</td>\n",
       "      <td>0.077973</td>\n",
       "      <td>-0.138184</td>\n",
       "      <td>0.110573</td>\n",
       "      <td>0.113307</td>\n",
       "      <td>0.050667</td>\n",
       "      <td>0.115901</td>\n",
       "      <td>0.048945</td>\n",
       "      <td>0.036118</td>\n",
       "      <td>0.007881</td>\n",
       "      <td>0.011224</td>\n",
       "      <td>0.004610</td>\n",
       "      <td>0.010098</td>\n",
       "    </tr>\n",
       "    <tr>\n",
       "      <th>Y1G4</th>\n",
       "      <td>0.041228</td>\n",
       "      <td>0.077973</td>\n",
       "      <td>1.000000</td>\n",
       "      <td>-0.081608</td>\n",
       "      <td>-0.074006</td>\n",
       "      <td>-0.108378</td>\n",
       "      <td>0.015202</td>\n",
       "      <td>-0.085548</td>\n",
       "      <td>-0.080321</td>\n",
       "      <td>-0.074335</td>\n",
       "      <td>0.015545</td>\n",
       "      <td>0.016045</td>\n",
       "      <td>0.009845</td>\n",
       "      <td>0.005004</td>\n",
       "    </tr>\n",
       "    <tr>\n",
       "      <th>Y1G3</th>\n",
       "      <td>-0.037153</td>\n",
       "      <td>-0.138184</td>\n",
       "      <td>-0.081608</td>\n",
       "      <td>1.000000</td>\n",
       "      <td>-0.088371</td>\n",
       "      <td>-0.134965</td>\n",
       "      <td>-0.053506</td>\n",
       "      <td>-0.099307</td>\n",
       "      <td>0.000620</td>\n",
       "      <td>-0.027872</td>\n",
       "      <td>0.016659</td>\n",
       "      <td>-0.011104</td>\n",
       "      <td>-0.005857</td>\n",
       "      <td>-0.002819</td>\n",
       "    </tr>\n",
       "    <tr>\n",
       "      <th>Y1G2</th>\n",
       "      <td>-0.109527</td>\n",
       "      <td>0.110573</td>\n",
       "      <td>-0.074006</td>\n",
       "      <td>-0.088371</td>\n",
       "      <td>1.000000</td>\n",
       "      <td>0.194404</td>\n",
       "      <td>0.056031</td>\n",
       "      <td>0.315991</td>\n",
       "      <td>0.280105</td>\n",
       "      <td>0.102732</td>\n",
       "      <td>-0.012826</td>\n",
       "      <td>0.005238</td>\n",
       "      <td>0.017550</td>\n",
       "      <td>-0.007517</td>\n",
       "    </tr>\n",
       "    <tr>\n",
       "      <th>Y1G1</th>\n",
       "      <td>-0.144940</td>\n",
       "      <td>0.113307</td>\n",
       "      <td>-0.108378</td>\n",
       "      <td>-0.134965</td>\n",
       "      <td>0.194404</td>\n",
       "      <td>1.000000</td>\n",
       "      <td>-0.004132</td>\n",
       "      <td>0.233132</td>\n",
       "      <td>0.251188</td>\n",
       "      <td>0.086935</td>\n",
       "      <td>-0.035374</td>\n",
       "      <td>-0.020517</td>\n",
       "      <td>0.033509</td>\n",
       "      <td>-0.008161</td>\n",
       "    </tr>\n",
       "    <tr>\n",
       "      <th>Y1price</th>\n",
       "      <td>-0.011480</td>\n",
       "      <td>0.050667</td>\n",
       "      <td>0.015202</td>\n",
       "      <td>-0.053506</td>\n",
       "      <td>0.056031</td>\n",
       "      <td>-0.004132</td>\n",
       "      <td>1.000000</td>\n",
       "      <td>0.037318</td>\n",
       "      <td>-0.097641</td>\n",
       "      <td>-0.038765</td>\n",
       "      <td>0.076975</td>\n",
       "      <td>0.050314</td>\n",
       "      <td>-0.011971</td>\n",
       "      <td>0.088744</td>\n",
       "    </tr>\n",
       "    <tr>\n",
       "      <th>YEARS</th>\n",
       "      <td>-0.127372</td>\n",
       "      <td>0.115901</td>\n",
       "      <td>-0.085548</td>\n",
       "      <td>-0.099307</td>\n",
       "      <td>0.315991</td>\n",
       "      <td>0.233132</td>\n",
       "      <td>0.037318</td>\n",
       "      <td>1.000000</td>\n",
       "      <td>0.527847</td>\n",
       "      <td>0.317249</td>\n",
       "      <td>-0.093972</td>\n",
       "      <td>0.002046</td>\n",
       "      <td>0.006448</td>\n",
       "      <td>-0.030175</td>\n",
       "    </tr>\n",
       "    <tr>\n",
       "      <th>BACKER</th>\n",
       "      <td>-0.181988</td>\n",
       "      <td>0.048945</td>\n",
       "      <td>-0.080321</td>\n",
       "      <td>0.000620</td>\n",
       "      <td>0.280105</td>\n",
       "      <td>0.251188</td>\n",
       "      <td>-0.097641</td>\n",
       "      <td>0.527847</td>\n",
       "      <td>1.000000</td>\n",
       "      <td>0.200165</td>\n",
       "      <td>-0.092481</td>\n",
       "      <td>-0.010527</td>\n",
       "      <td>0.028137</td>\n",
       "      <td>-0.075744</td>\n",
       "    </tr>\n",
       "    <tr>\n",
       "      <th>AGE</th>\n",
       "      <td>-0.020781</td>\n",
       "      <td>0.036118</td>\n",
       "      <td>-0.074335</td>\n",
       "      <td>-0.027872</td>\n",
       "      <td>0.102732</td>\n",
       "      <td>0.086935</td>\n",
       "      <td>-0.038765</td>\n",
       "      <td>0.317249</td>\n",
       "      <td>0.200165</td>\n",
       "      <td>1.000000</td>\n",
       "      <td>-0.249764</td>\n",
       "      <td>0.019354</td>\n",
       "      <td>-0.058039</td>\n",
       "      <td>-0.010251</td>\n",
       "    </tr>\n",
       "    <tr>\n",
       "      <th>INCOME</th>\n",
       "      <td>0.011495</td>\n",
       "      <td>0.007881</td>\n",
       "      <td>0.015545</td>\n",
       "      <td>0.016659</td>\n",
       "      <td>-0.012826</td>\n",
       "      <td>-0.035374</td>\n",
       "      <td>0.076975</td>\n",
       "      <td>-0.093972</td>\n",
       "      <td>-0.092481</td>\n",
       "      <td>-0.249764</td>\n",
       "      <td>1.000000</td>\n",
       "      <td>0.075569</td>\n",
       "      <td>0.159971</td>\n",
       "      <td>0.313184</td>\n",
       "    </tr>\n",
       "    <tr>\n",
       "      <th>GNDR</th>\n",
       "      <td>-0.002571</td>\n",
       "      <td>0.011224</td>\n",
       "      <td>0.016045</td>\n",
       "      <td>-0.011104</td>\n",
       "      <td>0.005238</td>\n",
       "      <td>-0.020517</td>\n",
       "      <td>0.050314</td>\n",
       "      <td>0.002046</td>\n",
       "      <td>-0.010527</td>\n",
       "      <td>0.019354</td>\n",
       "      <td>0.075569</td>\n",
       "      <td>1.000000</td>\n",
       "      <td>0.052564</td>\n",
       "      <td>0.031960</td>\n",
       "    </tr>\n",
       "    <tr>\n",
       "      <th>PCTMARR</th>\n",
       "      <td>-0.011746</td>\n",
       "      <td>0.004610</td>\n",
       "      <td>0.009845</td>\n",
       "      <td>-0.005857</td>\n",
       "      <td>0.017550</td>\n",
       "      <td>0.033509</td>\n",
       "      <td>-0.011971</td>\n",
       "      <td>0.006448</td>\n",
       "      <td>0.028137</td>\n",
       "      <td>-0.058039</td>\n",
       "      <td>0.159971</td>\n",
       "      <td>0.052564</td>\n",
       "      <td>1.000000</td>\n",
       "      <td>0.055076</td>\n",
       "    </tr>\n",
       "    <tr>\n",
       "      <th>HOMEVAL</th>\n",
       "      <td>0.035777</td>\n",
       "      <td>0.010098</td>\n",
       "      <td>0.005004</td>\n",
       "      <td>-0.002819</td>\n",
       "      <td>-0.007517</td>\n",
       "      <td>-0.008161</td>\n",
       "      <td>0.088744</td>\n",
       "      <td>-0.030175</td>\n",
       "      <td>-0.075744</td>\n",
       "      <td>-0.010251</td>\n",
       "      <td>0.313184</td>\n",
       "      <td>0.031960</td>\n",
       "      <td>0.055076</td>\n",
       "      <td>1.000000</td>\n",
       "    </tr>\n",
       "  </tbody>\n",
       "</table>\n",
       "</div>"
      ],
      "text/plain": [
       "          Y2defect      Y1G5      Y1G4      Y1G3      Y1G2      Y1G1  \\\n",
       "Y2defect  1.000000 -0.097838  0.041228 -0.037153 -0.109527 -0.144940   \n",
       "Y1G5     -0.097838  1.000000  0.077973 -0.138184  0.110573  0.113307   \n",
       "Y1G4      0.041228  0.077973  1.000000 -0.081608 -0.074006 -0.108378   \n",
       "Y1G3     -0.037153 -0.138184 -0.081608  1.000000 -0.088371 -0.134965   \n",
       "Y1G2     -0.109527  0.110573 -0.074006 -0.088371  1.000000  0.194404   \n",
       "Y1G1     -0.144940  0.113307 -0.108378 -0.134965  0.194404  1.000000   \n",
       "Y1price  -0.011480  0.050667  0.015202 -0.053506  0.056031 -0.004132   \n",
       "YEARS    -0.127372  0.115901 -0.085548 -0.099307  0.315991  0.233132   \n",
       "BACKER   -0.181988  0.048945 -0.080321  0.000620  0.280105  0.251188   \n",
       "AGE      -0.020781  0.036118 -0.074335 -0.027872  0.102732  0.086935   \n",
       "INCOME    0.011495  0.007881  0.015545  0.016659 -0.012826 -0.035374   \n",
       "GNDR     -0.002571  0.011224  0.016045 -0.011104  0.005238 -0.020517   \n",
       "PCTMARR  -0.011746  0.004610  0.009845 -0.005857  0.017550  0.033509   \n",
       "HOMEVAL   0.035777  0.010098  0.005004 -0.002819 -0.007517 -0.008161   \n",
       "\n",
       "           Y1price     YEARS    BACKER       AGE    INCOME      GNDR  \\\n",
       "Y2defect -0.011480 -0.127372 -0.181988 -0.020781  0.011495 -0.002571   \n",
       "Y1G5      0.050667  0.115901  0.048945  0.036118  0.007881  0.011224   \n",
       "Y1G4      0.015202 -0.085548 -0.080321 -0.074335  0.015545  0.016045   \n",
       "Y1G3     -0.053506 -0.099307  0.000620 -0.027872  0.016659 -0.011104   \n",
       "Y1G2      0.056031  0.315991  0.280105  0.102732 -0.012826  0.005238   \n",
       "Y1G1     -0.004132  0.233132  0.251188  0.086935 -0.035374 -0.020517   \n",
       "Y1price   1.000000  0.037318 -0.097641 -0.038765  0.076975  0.050314   \n",
       "YEARS     0.037318  1.000000  0.527847  0.317249 -0.093972  0.002046   \n",
       "BACKER   -0.097641  0.527847  1.000000  0.200165 -0.092481 -0.010527   \n",
       "AGE      -0.038765  0.317249  0.200165  1.000000 -0.249764  0.019354   \n",
       "INCOME    0.076975 -0.093972 -0.092481 -0.249764  1.000000  0.075569   \n",
       "GNDR      0.050314  0.002046 -0.010527  0.019354  0.075569  1.000000   \n",
       "PCTMARR  -0.011971  0.006448  0.028137 -0.058039  0.159971  0.052564   \n",
       "HOMEVAL   0.088744 -0.030175 -0.075744 -0.010251  0.313184  0.031960   \n",
       "\n",
       "           PCTMARR   HOMEVAL  \n",
       "Y2defect -0.011746  0.035777  \n",
       "Y1G5      0.004610  0.010098  \n",
       "Y1G4      0.009845  0.005004  \n",
       "Y1G3     -0.005857 -0.002819  \n",
       "Y1G2      0.017550 -0.007517  \n",
       "Y1G1      0.033509 -0.008161  \n",
       "Y1price  -0.011971  0.088744  \n",
       "YEARS     0.006448 -0.030175  \n",
       "BACKER    0.028137 -0.075744  \n",
       "AGE      -0.058039 -0.010251  \n",
       "INCOME    0.159971  0.313184  \n",
       "GNDR      0.052564  0.031960  \n",
       "PCTMARR   1.000000  0.055076  \n",
       "HOMEVAL   0.055076  1.000000  "
      ]
     },
     "execution_count": 1714,
     "metadata": {},
     "output_type": "execute_result"
    }
   ],
   "source": [
    "df.corr() # checking correlation between all columns"
   ]
  },
  {
   "cell_type": "code",
   "execution_count": 1715,
   "metadata": {},
   "outputs": [
    {
     "data": {
      "text/plain": [
       "<matplotlib.axes._subplots.AxesSubplot at 0xc2956a20>"
      ]
     },
     "execution_count": 1715,
     "metadata": {},
     "output_type": "execute_result"
    },
    {
     "data": {
      "image/png": "[encoded data removed]",
      "text/plain": [
       "<matplotlib.figure.Figure at 0xc298fb00>"
      ]
     },
     "metadata": {},
     "output_type": "display_data"
    }
   ],
   "source": [
    "# correlation plot\n",
    "\n",
    "plt.figure(figsize=(8,8))\n",
    "sns.heatmap(df.corr(), vmax=.8, square=True, annot=True, fmt=\".1f\")"
   ]
  },
  {
   "cell_type": "code",
   "execution_count": 1716,
   "metadata": {},
   "outputs": [
    {
     "data": {
      "text/html": [
       "<div>\n",
       "<style scoped>\n",
       "    .dataframe tbody tr th:only-of-type {\n",
       "        vertical-align: middle;\n",
       "    }\n",
       "\n",
       "    .dataframe tbody tr th {\n",
       "        vertical-align: top;\n",
       "    }\n",
       "\n",
       "    .dataframe thead th {\n",
       "        text-align: right;\n",
       "    }\n",
       "</style>\n",
       "<table border=\"1\" class=\"dataframe\">\n",
       "  <thead>\n",
       "    <tr style=\"text-align: right;\">\n",
       "      <th></th>\n",
       "      <th>YEARS</th>\n",
       "      <th>BACKER</th>\n",
       "    </tr>\n",
       "  </thead>\n",
       "  <tbody>\n",
       "    <tr>\n",
       "      <th>YEARS</th>\n",
       "      <td>1.000000</td>\n",
       "      <td>0.527847</td>\n",
       "    </tr>\n",
       "    <tr>\n",
       "      <th>BACKER</th>\n",
       "      <td>0.527847</td>\n",
       "      <td>1.000000</td>\n",
       "    </tr>\n",
       "  </tbody>\n",
       "</table>\n",
       "</div>"
      ],
      "text/plain": [
       "           YEARS    BACKER\n",
       "YEARS   1.000000  0.527847\n",
       "BACKER  0.527847  1.000000"
      ]
     },
     "execution_count": 1716,
     "metadata": {},
     "output_type": "execute_result"
    }
   ],
   "source": [
    "df[['YEARS','BACKER']].corr() # displaying correlation between years and backers"
   ]
  },
  {
   "cell_type": "code",
   "execution_count": 1717,
   "metadata": {},
   "outputs": [
    {
     "data": {
      "text/plain": [
       "<seaborn.axisgrid.JointGrid at 0xc2659198>"
      ]
     },
     "execution_count": 1717,
     "metadata": {},
     "output_type": "execute_result"
    },
    {
     "data": {
      "image/png": "[encoded data removed]",
      "text/plain": [
       "<matplotlib.figure.Figure at 0xc297a6d8>"
      ]
     },
     "metadata": {},
     "output_type": "display_data"
    }
   ],
   "source": [
    "sns.jointplot(\"YEARS\", \"BACKER\", df, kind=\"hex\", color=\"#8855AA\") # displayed a joint plot between years and backers"
   ]
  },
  {
   "cell_type": "code",
   "execution_count": 1718,
   "metadata": {},
   "outputs": [
    {
     "data": {
      "text/html": [
       "<div>\n",
       "<style scoped>\n",
       "    .dataframe tbody tr th:only-of-type {\n",
       "        vertical-align: middle;\n",
       "    }\n",
       "\n",
       "    .dataframe tbody tr th {\n",
       "        vertical-align: top;\n",
       "    }\n",
       "\n",
       "    .dataframe thead th {\n",
       "        text-align: right;\n",
       "    }\n",
       "</style>\n",
       "<table border=\"1\" class=\"dataframe\">\n",
       "  <thead>\n",
       "    <tr style=\"text-align: right;\">\n",
       "      <th></th>\n",
       "      <th>Y2defect</th>\n",
       "      <th>Y1G5</th>\n",
       "      <th>Y1G4</th>\n",
       "      <th>Y1G3</th>\n",
       "      <th>Y1G2</th>\n",
       "      <th>Y1G1</th>\n",
       "      <th>Y1price</th>\n",
       "      <th>YEARS</th>\n",
       "      <th>BACKER</th>\n",
       "      <th>AGE</th>\n",
       "      <th>INCOME</th>\n",
       "      <th>GNDR</th>\n",
       "      <th>PCTMARR</th>\n",
       "      <th>HOMEVAL</th>\n",
       "    </tr>\n",
       "  </thead>\n",
       "  <tbody>\n",
       "    <tr>\n",
       "      <th>Y2defect</th>\n",
       "      <td>1.000000</td>\n",
       "      <td>-0.097838</td>\n",
       "      <td>0.041228</td>\n",
       "      <td>-0.037153</td>\n",
       "      <td>-0.109527</td>\n",
       "      <td>-0.144940</td>\n",
       "      <td>-0.011480</td>\n",
       "      <td>-0.127372</td>\n",
       "      <td>-0.181988</td>\n",
       "      <td>-0.020781</td>\n",
       "      <td>0.011495</td>\n",
       "      <td>-0.002571</td>\n",
       "      <td>-0.011746</td>\n",
       "      <td>0.035777</td>\n",
       "    </tr>\n",
       "    <tr>\n",
       "      <th>Y1G5</th>\n",
       "      <td>-0.097838</td>\n",
       "      <td>1.000000</td>\n",
       "      <td>0.077973</td>\n",
       "      <td>-0.138184</td>\n",
       "      <td>0.110573</td>\n",
       "      <td>0.113307</td>\n",
       "      <td>0.050667</td>\n",
       "      <td>0.115901</td>\n",
       "      <td>0.048945</td>\n",
       "      <td>0.036118</td>\n",
       "      <td>0.007881</td>\n",
       "      <td>0.011224</td>\n",
       "      <td>0.004610</td>\n",
       "      <td>0.010098</td>\n",
       "    </tr>\n",
       "    <tr>\n",
       "      <th>Y1G4</th>\n",
       "      <td>0.041228</td>\n",
       "      <td>0.077973</td>\n",
       "      <td>1.000000</td>\n",
       "      <td>-0.081608</td>\n",
       "      <td>-0.074006</td>\n",
       "      <td>-0.108378</td>\n",
       "      <td>0.015202</td>\n",
       "      <td>-0.085548</td>\n",
       "      <td>-0.080321</td>\n",
       "      <td>-0.074335</td>\n",
       "      <td>0.015545</td>\n",
       "      <td>0.016045</td>\n",
       "      <td>0.009845</td>\n",
       "      <td>0.005004</td>\n",
       "    </tr>\n",
       "    <tr>\n",
       "      <th>Y1G3</th>\n",
       "      <td>-0.037153</td>\n",
       "      <td>-0.138184</td>\n",
       "      <td>-0.081608</td>\n",
       "      <td>1.000000</td>\n",
       "      <td>-0.088371</td>\n",
       "      <td>-0.134965</td>\n",
       "      <td>-0.053506</td>\n",
       "      <td>-0.099307</td>\n",
       "      <td>0.000620</td>\n",
       "      <td>-0.027872</td>\n",
       "      <td>0.016659</td>\n",
       "      <td>-0.011104</td>\n",
       "      <td>-0.005857</td>\n",
       "      <td>-0.002819</td>\n",
       "    </tr>\n",
       "    <tr>\n",
       "      <th>Y1G2</th>\n",
       "      <td>-0.109527</td>\n",
       "      <td>0.110573</td>\n",
       "      <td>-0.074006</td>\n",
       "      <td>-0.088371</td>\n",
       "      <td>1.000000</td>\n",
       "      <td>0.194404</td>\n",
       "      <td>0.056031</td>\n",
       "      <td>0.315991</td>\n",
       "      <td>0.280105</td>\n",
       "      <td>0.102732</td>\n",
       "      <td>-0.012826</td>\n",
       "      <td>0.005238</td>\n",
       "      <td>0.017550</td>\n",
       "      <td>-0.007517</td>\n",
       "    </tr>\n",
       "    <tr>\n",
       "      <th>Y1G1</th>\n",
       "      <td>-0.144940</td>\n",
       "      <td>0.113307</td>\n",
       "      <td>-0.108378</td>\n",
       "      <td>-0.134965</td>\n",
       "      <td>0.194404</td>\n",
       "      <td>1.000000</td>\n",
       "      <td>-0.004132</td>\n",
       "      <td>0.233132</td>\n",
       "      <td>0.251188</td>\n",
       "      <td>0.086935</td>\n",
       "      <td>-0.035374</td>\n",
       "      <td>-0.020517</td>\n",
       "      <td>0.033509</td>\n",
       "      <td>-0.008161</td>\n",
       "    </tr>\n",
       "    <tr>\n",
       "      <th>Y1price</th>\n",
       "      <td>-0.011480</td>\n",
       "      <td>0.050667</td>\n",
       "      <td>0.015202</td>\n",
       "      <td>-0.053506</td>\n",
       "      <td>0.056031</td>\n",
       "      <td>-0.004132</td>\n",
       "      <td>1.000000</td>\n",
       "      <td>0.037318</td>\n",
       "      <td>-0.097641</td>\n",
       "      <td>-0.038765</td>\n",
       "      <td>0.076975</td>\n",
       "      <td>0.050314</td>\n",
       "      <td>-0.011971</td>\n",
       "      <td>0.088744</td>\n",
       "    </tr>\n",
       "    <tr>\n",
       "      <th>YEARS</th>\n",
       "      <td>-0.127372</td>\n",
       "      <td>0.115901</td>\n",
       "      <td>-0.085548</td>\n",
       "      <td>-0.099307</td>\n",
       "      <td>0.315991</td>\n",
       "      <td>0.233132</td>\n",
       "      <td>0.037318</td>\n",
       "      <td>1.000000</td>\n",
       "      <td>0.527847</td>\n",
       "      <td>0.317249</td>\n",
       "      <td>-0.093972</td>\n",
       "      <td>0.002046</td>\n",
       "      <td>0.006448</td>\n",
       "      <td>-0.030175</td>\n",
       "    </tr>\n",
       "    <tr>\n",
       "      <th>BACKER</th>\n",
       "      <td>-0.181988</td>\n",
       "      <td>0.048945</td>\n",
       "      <td>-0.080321</td>\n",
       "      <td>0.000620</td>\n",
       "      <td>0.280105</td>\n",
       "      <td>0.251188</td>\n",
       "      <td>-0.097641</td>\n",
       "      <td>0.527847</td>\n",
       "      <td>1.000000</td>\n",
       "      <td>0.200165</td>\n",
       "      <td>-0.092481</td>\n",
       "      <td>-0.010527</td>\n",
       "      <td>0.028137</td>\n",
       "      <td>-0.075744</td>\n",
       "    </tr>\n",
       "    <tr>\n",
       "      <th>AGE</th>\n",
       "      <td>-0.020781</td>\n",
       "      <td>0.036118</td>\n",
       "      <td>-0.074335</td>\n",
       "      <td>-0.027872</td>\n",
       "      <td>0.102732</td>\n",
       "      <td>0.086935</td>\n",
       "      <td>-0.038765</td>\n",
       "      <td>0.317249</td>\n",
       "      <td>0.200165</td>\n",
       "      <td>1.000000</td>\n",
       "      <td>-0.249764</td>\n",
       "      <td>0.019354</td>\n",
       "      <td>-0.058039</td>\n",
       "      <td>-0.010251</td>\n",
       "    </tr>\n",
       "    <tr>\n",
       "      <th>INCOME</th>\n",
       "      <td>0.011495</td>\n",
       "      <td>0.007881</td>\n",
       "      <td>0.015545</td>\n",
       "      <td>0.016659</td>\n",
       "      <td>-0.012826</td>\n",
       "      <td>-0.035374</td>\n",
       "      <td>0.076975</td>\n",
       "      <td>-0.093972</td>\n",
       "      <td>-0.092481</td>\n",
       "      <td>-0.249764</td>\n",
       "      <td>1.000000</td>\n",
       "      <td>0.075569</td>\n",
       "      <td>0.159971</td>\n",
       "      <td>0.313184</td>\n",
       "    </tr>\n",
       "    <tr>\n",
       "      <th>GNDR</th>\n",
       "      <td>-0.002571</td>\n",
       "      <td>0.011224</td>\n",
       "      <td>0.016045</td>\n",
       "      <td>-0.011104</td>\n",
       "      <td>0.005238</td>\n",
       "      <td>-0.020517</td>\n",
       "      <td>0.050314</td>\n",
       "      <td>0.002046</td>\n",
       "      <td>-0.010527</td>\n",
       "      <td>0.019354</td>\n",
       "      <td>0.075569</td>\n",
       "      <td>1.000000</td>\n",
       "      <td>0.052564</td>\n",
       "      <td>0.031960</td>\n",
       "    </tr>\n",
       "    <tr>\n",
       "      <th>PCTMARR</th>\n",
       "      <td>-0.011746</td>\n",
       "      <td>0.004610</td>\n",
       "      <td>0.009845</td>\n",
       "      <td>-0.005857</td>\n",
       "      <td>0.017550</td>\n",
       "      <td>0.033509</td>\n",
       "      <td>-0.011971</td>\n",
       "      <td>0.006448</td>\n",
       "      <td>0.028137</td>\n",
       "      <td>-0.058039</td>\n",
       "      <td>0.159971</td>\n",
       "      <td>0.052564</td>\n",
       "      <td>1.000000</td>\n",
       "      <td>0.055076</td>\n",
       "    </tr>\n",
       "    <tr>\n",
       "      <th>HOMEVAL</th>\n",
       "      <td>0.035777</td>\n",
       "      <td>0.010098</td>\n",
       "      <td>0.005004</td>\n",
       "      <td>-0.002819</td>\n",
       "      <td>-0.007517</td>\n",
       "      <td>-0.008161</td>\n",
       "      <td>0.088744</td>\n",
       "      <td>-0.030175</td>\n",
       "      <td>-0.075744</td>\n",
       "      <td>-0.010251</td>\n",
       "      <td>0.313184</td>\n",
       "      <td>0.031960</td>\n",
       "      <td>0.055076</td>\n",
       "      <td>1.000000</td>\n",
       "    </tr>\n",
       "  </tbody>\n",
       "</table>\n",
       "</div>"
      ],
      "text/plain": [
       "          Y2defect      Y1G5      Y1G4      Y1G3      Y1G2      Y1G1  \\\n",
       "Y2defect  1.000000 -0.097838  0.041228 -0.037153 -0.109527 -0.144940   \n",
       "Y1G5     -0.097838  1.000000  0.077973 -0.138184  0.110573  0.113307   \n",
       "Y1G4      0.041228  0.077973  1.000000 -0.081608 -0.074006 -0.108378   \n",
       "Y1G3     -0.037153 -0.138184 -0.081608  1.000000 -0.088371 -0.134965   \n",
       "Y1G2     -0.109527  0.110573 -0.074006 -0.088371  1.000000  0.194404   \n",
       "Y1G1     -0.144940  0.113307 -0.108378 -0.134965  0.194404  1.000000   \n",
       "Y1price  -0.011480  0.050667  0.015202 -0.053506  0.056031 -0.004132   \n",
       "YEARS    -0.127372  0.115901 -0.085548 -0.099307  0.315991  0.233132   \n",
       "BACKER   -0.181988  0.048945 -0.080321  0.000620  0.280105  0.251188   \n",
       "AGE      -0.020781  0.036118 -0.074335 -0.027872  0.102732  0.086935   \n",
       "INCOME    0.011495  0.007881  0.015545  0.016659 -0.012826 -0.035374   \n",
       "GNDR     -0.002571  0.011224  0.016045 -0.011104  0.005238 -0.020517   \n",
       "PCTMARR  -0.011746  0.004610  0.009845 -0.005857  0.017550  0.033509   \n",
       "HOMEVAL   0.035777  0.010098  0.005004 -0.002819 -0.007517 -0.008161   \n",
       "\n",
       "           Y1price     YEARS    BACKER       AGE    INCOME      GNDR  \\\n",
       "Y2defect -0.011480 -0.127372 -0.181988 -0.020781  0.011495 -0.002571   \n",
       "Y1G5      0.050667  0.115901  0.048945  0.036118  0.007881  0.011224   \n",
       "Y1G4      0.015202 -0.085548 -0.080321 -0.074335  0.015545  0.016045   \n",
       "Y1G3     -0.053506 -0.099307  0.000620 -0.027872  0.016659 -0.011104   \n",
       "Y1G2      0.056031  0.315991  0.280105  0.102732 -0.012826  0.005238   \n",
       "Y1G1     -0.004132  0.233132  0.251188  0.086935 -0.035374 -0.020517   \n",
       "Y1price   1.000000  0.037318 -0.097641 -0.038765  0.076975  0.050314   \n",
       "YEARS     0.037318  1.000000  0.527847  0.317249 -0.093972  0.002046   \n",
       "BACKER   -0.097641  0.527847  1.000000  0.200165 -0.092481 -0.010527   \n",
       "AGE      -0.038765  0.317249  0.200165  1.000000 -0.249764  0.019354   \n",
       "INCOME    0.076975 -0.093972 -0.092481 -0.249764  1.000000  0.075569   \n",
       "GNDR      0.050314  0.002046 -0.010527  0.019354  0.075569  1.000000   \n",
       "PCTMARR  -0.011971  0.006448  0.028137 -0.058039  0.159971  0.052564   \n",
       "HOMEVAL   0.088744 -0.030175 -0.075744 -0.010251  0.313184  0.031960   \n",
       "\n",
       "           PCTMARR   HOMEVAL  \n",
       "Y2defect -0.011746  0.035777  \n",
       "Y1G5      0.004610  0.010098  \n",
       "Y1G4      0.009845  0.005004  \n",
       "Y1G3     -0.005857 -0.002819  \n",
       "Y1G2      0.017550 -0.007517  \n",
       "Y1G1      0.033509 -0.008161  \n",
       "Y1price  -0.011971  0.088744  \n",
       "YEARS     0.006448 -0.030175  \n",
       "BACKER    0.028137 -0.075744  \n",
       "AGE      -0.058039 -0.010251  \n",
       "INCOME    0.159971  0.313184  \n",
       "GNDR      0.052564  0.031960  \n",
       "PCTMARR   1.000000  0.055076  \n",
       "HOMEVAL   0.055076  1.000000  "
      ]
     },
     "execution_count": 1718,
     "metadata": {},
     "output_type": "execute_result"
    }
   ],
   "source": [
    "df.corr() # checking correlation"
   ]
  },
  {
   "cell_type": "code",
   "execution_count": 1719,
   "metadata": {},
   "outputs": [
    {
     "data": {
      "text/plain": [
       "<matplotlib.axes._subplots.AxesSubplot at 0xc3191b00>"
      ]
     },
     "execution_count": 1719,
     "metadata": {},
     "output_type": "execute_result"
    },
    {
     "data": {
      "image/png": "[encoded data removed]",
      "text/plain": [
       "<matplotlib.figure.Figure at 0xc36eeac8>"
      ]
     },
     "metadata": {},
     "output_type": "display_data"
    }
   ],
   "source": [
    "# correlation plot\n",
    "\n",
    "plt.figure(figsize=(8,8))\n",
    "sns.heatmap(df.corr(), vmax=.8, square=True, annot=True, fmt=\".1f\")"
   ]
  },
  {
   "cell_type": "code",
   "execution_count": 1720,
   "metadata": {},
   "outputs": [
    {
     "data": {
      "text/plain": [
       "Y2defect      0.495977\n",
       "Y1G5          0.340039\n",
       "Y1G4          0.519794\n",
       "Y1G3          0.626489\n",
       "Y1G2          0.294657\n",
       "Y1G1          0.480528\n",
       "Y1price      19.942066\n",
       "YEARS         6.371580\n",
       "BACKER        0.480367\n",
       "AGE          61.121017\n",
       "INCOME        2.939170\n",
       "GNDR          0.460734\n",
       "PCTMARR      58.686514\n",
       "HOMEVAL     110.402800\n",
       "dtype: float64"
      ]
     },
     "execution_count": 1720,
     "metadata": {},
     "output_type": "execute_result"
    }
   ],
   "source": [
    "df.mean() # checking all means"
   ]
  },
  {
   "cell_type": "code",
   "execution_count": 1721,
   "metadata": {},
   "outputs": [
    {
     "name": "stderr",
     "output_type": "stream",
     "text": [
      "C:\\Users\\jasmi\\Anaconda2\\lib\\site-packages\\ipykernel_launcher.py:1: FutureWarning: 'pandas.tools.plotting.scatter_matrix' is deprecated, import 'pandas.plotting.scatter_matrix' instead.\n",
      "  \"\"\"Entry point for launching an IPython kernel.\n"
     ]
    },
    {
     "data": {
      "text/plain": [
       "array([[<matplotlib.axes._subplots.AxesSubplot object at 0x00000000C3C44908>,\n",
       "        <matplotlib.axes._subplots.AxesSubplot object at 0x00000000C4314240>,\n",
       "        <matplotlib.axes._subplots.AxesSubplot object at 0x00000000C44B7EF0>],\n",
       "       [<matplotlib.axes._subplots.AxesSubplot object at 0x00000000C44E1048>,\n",
       "        <matplotlib.axes._subplots.AxesSubplot object at 0x00000000C43D77F0>,\n",
       "        <matplotlib.axes._subplots.AxesSubplot object at 0x00000000C4227E48>],\n",
       "       [<matplotlib.axes._subplots.AxesSubplot object at 0x00000000C4135AC8>,\n",
       "        <matplotlib.axes._subplots.AxesSubplot object at 0x00000000C45ADBE0>,\n",
       "        <matplotlib.axes._subplots.AxesSubplot object at 0x00000000C46C3860>]],\n",
       "      dtype=object)"
      ]
     },
     "execution_count": 1721,
     "metadata": {},
     "output_type": "execute_result"
    },
    {
     "data": {
      "image/png": "[encoded data removed]",
      "text/plain": [
       "<matplotlib.figure.Figure at 0xc37bb6d8>"
      ]
     },
     "metadata": {},
     "output_type": "display_data"
    }
   ],
   "source": [
    "plotting.scatter_matrix(df[['INCOME','YEARS','BACKER']]) # created a scatter plot betweeen income, years, and backers"
   ]
  },
  {
   "cell_type": "code",
   "execution_count": 1722,
   "metadata": {},
   "outputs": [
    {
     "data": {
      "text/plain": [
       "(array([0.18908915, 0.28376784, 0.        , 0.19096663, 0.        ,\n",
       "        0.29020491, 0.36744984, 0.        , 0.1786289 , 0.16655938]),\n",
       " array([0. , 0.6, 1.2, 1.8, 2.4, 3. , 3.6, 4.2, 4.8, 5.4, 6. ]),\n",
       " <a list of 10 Patch objects>)"
      ]
     },
     "execution_count": 1722,
     "metadata": {},
     "output_type": "execute_result"
    },
    {
     "data": {
      "image/png": "[encoded data removed]",
      "text/plain": [
       "<matplotlib.figure.Figure at 0xc4900ef0>"
      ]
     },
     "metadata": {},
     "output_type": "display_data"
    }
   ],
   "source": [
    "# an illustration of normal distribution\n",
    "\n",
    "j = sorted(df['INCOME'])\n",
    "fit = stats.norm.pdf(j, np.mean(j), np.std(j))  #this is a fitting indeed\n",
    "plt.plot(j,fit,'-o')\n",
    "plt.hist(j,normed=True)      #use this to draw histogram of your data"
   ]
  },
  {
   "cell_type": "code",
   "execution_count": 1723,
   "metadata": {},
   "outputs": [
    {
     "data": {
      "text/plain": [
       "(array([1.66214539e-01, 9.51001579e-02, 7.49459745e-02, 8.91228715e-02,\n",
       "        4.98107193e-02, 3.06527503e-04, 2.29895627e-04, 1.53263752e-04,\n",
       "        1.53263752e-04, 1.53263752e-04]),\n",
       " array([ 2. ,  4.1,  6.2,  8.3, 10.4, 12.5, 14.6, 16.7, 18.8, 20.9, 23. ]),\n",
       " <a list of 10 Patch objects>)"
      ]
     },
     "execution_count": 1723,
     "metadata": {},
     "output_type": "execute_result"
    },
    {
     "data": {
      "image/png": "[encoded data removed]",
      "text/plain": [
       "<matplotlib.figure.Figure at 0xc3681a90>"
      ]
     },
     "metadata": {},
     "output_type": "display_data"
    }
   ],
   "source": [
    "# an illustration of normal distribution\n",
    "\n",
    "j = sorted(df['YEARS'])\n",
    "fit = stats.norm.pdf(j, np.mean(j), np.std(j))  #this is a fitting indeed\n",
    "plt.plot(j,fit,'-o')\n",
    "plt.hist(j,normed=True)      #use this to draw histogram of your data"
   ]
  },
  {
   "cell_type": "code",
   "execution_count": 1724,
   "metadata": {},
   "outputs": [
    {
     "name": "stdout",
     "output_type": "stream",
     "text": [
      "NormaltestResult(statistic=1950.568342489406, pvalue=0.0)\n",
      "NormaltestResult(statistic=654.9820088906623, pvalue=5.921938548541938e-143)\n"
     ]
    }
   ],
   "source": [
    "# test if the data is normally distributed\n",
    "\n",
    "import scipy.stats as stats\n",
    "\n",
    "print stats.normaltest(df['INCOME'])\n",
    "print stats.normaltest(df['YEARS'])"
   ]
  },
  {
   "cell_type": "code",
   "execution_count": 1725,
   "metadata": {},
   "outputs": [
    {
     "name": "stdout",
     "output_type": "stream",
     "text": [
      "The chi-square statistic is 1950.568 and the p-value is 0.000.\n",
      "The chi-square statistic is 654.982 and the p-value is 0.000.\n"
     ]
    }
   ],
   "source": [
    "inc = stats.normaltest(df['INCOME']) # developing chi-square\n",
    "yrs = stats.normaltest(df['YEARS'])\n",
    "\n",
    "print \"The chi-square statistic is %.3f and the p-value is %.3f.\" % inc\n",
    "print \"The chi-square statistic is %.3f and the p-value is %.3f.\" % yrs"
   ]
  },
  {
   "cell_type": "code",
   "execution_count": 1726,
   "metadata": {},
   "outputs": [
    {
     "name": "stdout",
     "output_type": "stream",
     "text": [
      "NormaltestResult(statistic=2945.2591210857972, pvalue=0.0)\n"
     ]
    }
   ],
   "source": [
    "print stats.normaltest(df['HOMEVAL']) # using normal test"
   ]
  },
  {
   "cell_type": "code",
   "execution_count": 1727,
   "metadata": {},
   "outputs": [
    {
     "data": {
      "text/plain": [
       "(array([1802., 2669.,  814.,  386.,  215.,  142.,   73.,   48.,   36.,\n",
       "          29.]),\n",
       " array([  0. ,  59.3, 118.6, 177.9, 237.2, 296.5, 355.8, 415.1, 474.4,\n",
       "        533.7, 593. ]),\n",
       " <a list of 10 Patch objects>)"
      ]
     },
     "execution_count": 1727,
     "metadata": {},
     "output_type": "execute_result"
    },
    {
     "data": {
      "image/png": "[encoded data removed]",
      "text/plain": [
       "<matplotlib.figure.Figure at 0xc4915fd0>"
      ]
     },
     "metadata": {},
     "output_type": "display_data"
    }
   ],
   "source": [
    "plt.hist(df['HOMEVAL']) # displaying histogram of homeval"
   ]
  },
  {
   "cell_type": "code",
   "execution_count": 1728,
   "metadata": {
    "scrolled": true
   },
   "outputs": [
    {
     "data": {
      "text/plain": [
       "(array([4.89022503e-03, 7.24306915e-03, 2.20901397e-03, 1.04751768e-03,\n",
       "        5.83461921e-04, 3.85356246e-04, 1.98105676e-04, 1.30261266e-04,\n",
       "        9.76959496e-05, 7.86995149e-05]),\n",
       " array([  0. ,  59.3, 118.6, 177.9, 237.2, 296.5, 355.8, 415.1, 474.4,\n",
       "        533.7, 593. ]),\n",
       " <a list of 10 Patch objects>)"
      ]
     },
     "execution_count": 1728,
     "metadata": {},
     "output_type": "execute_result"
    },
    {
     "data": {
      "image/png": "[encoded data removed]",
      "text/plain": [
       "<matplotlib.figure.Figure at 0xc49f64e0>"
      ]
     },
     "metadata": {},
     "output_type": "display_data"
    }
   ],
   "source": [
    "j = sorted(df['HOMEVAL']) # plotting homeval\n",
    "fit = stats.norm.pdf(j, np.mean(j), np.std(j))  #this is a fitting indeed\n",
    "plt.plot(j,fit,'-o')\n",
    "plt.hist(j,normed=True)   "
   ]
  },
  {
   "cell_type": "code",
   "execution_count": 1729,
   "metadata": {},
   "outputs": [
    {
     "name": "stdout",
     "output_type": "stream",
     "text": [
      "The t-statistic is -0.905 and the p-value is 0.366.\n"
     ]
    }
   ],
   "source": [
    "#print three decimal points\n",
    "two_sample = stats.ttest_ind(defect, stay)\n",
    "print \"The t-statistic is %.3f and the p-value is %.3f.\" % two_sample"
   ]
  },
  {
   "cell_type": "code",
   "execution_count": 1730,
   "metadata": {},
   "outputs": [
    {
     "name": "stdout",
     "output_type": "stream",
     "text": [
      "The t-statistic is -0.905 and the p-value is 0.366.\n"
     ]
    }
   ],
   "source": [
    "defect = df[df['Y2defect'] == 1]['Y1price'] # creating and displaying t-stat\n",
    "stay = df[df['Y2defect'] == 0]['Y1price']\n",
    "stats.ttest_ind(defect, stay)\n",
    "#print three decimal points\n",
    "two_sample = stats.ttest_ind(defect, stay)\n",
    "print \"The t-statistic is %.3f and the p-value is %.3f.\" % two_sample"
   ]
  },
  {
   "cell_type": "code",
   "execution_count": 1731,
   "metadata": {},
   "outputs": [
    {
     "name": "stdout",
     "output_type": "stream",
     "text": [
      "One-way ANOVA P = 0.8828589062983678\n"
     ]
    }
   ],
   "source": [
    "i0 = df[df['INCOME'] == 0]['Y2defect'] # ONE- WAY ANOVA testing\n",
    "i1 = df[df['INCOME'] == 1]['Y2defect']\n",
    "i2 = df[df['INCOME'] == 2]['Y2defect']\n",
    "i3 = df[df['INCOME'] == 3]['Y2defect']\n",
    "i4 = df[df['INCOME'] == 4]['Y2defect']\n",
    "i5 = df[df['INCOME'] == 5]['Y2defect']\n",
    "i6 = df[df['INCOME'] == 6]['Y2defect']\n",
    "\n",
    "f_val, p_val = stats.f_oneway(i0, i1, i2, i3, i4, i5, i6)  \n",
    "  \n",
    "print \"One-way ANOVA P =\", p_val "
   ]
  },
  {
   "cell_type": "code",
   "execution_count": 1732,
   "metadata": {},
   "outputs": [
    {
     "name": "stdout",
     "output_type": "stream",
     "text": [
      "              df       sum_sq   mean_sq         F   PR(>F)\n",
      "INCOME       1.0     0.205253  0.205253  0.820909  0.36495\n",
      "Residual  6212.0  1553.194168  0.250031       NaN      NaN\n"
     ]
    }
   ],
   "source": [
    "# ANOVA test using the python package \"statsmodels\"\n",
    "# If this package is not installed in your machine, do \"conda install statsmodels\" in command prompt (Win) / terminal (Mac)\n",
    "import statsmodels.api as sm\n",
    "from statsmodels.formula.api import ols\n",
    "\n",
    "mod = ols('Y2defect ~ INCOME', data=df).fit()\n",
    "                \n",
    "aov_table = sm.stats.anova_lm(mod)\n",
    "print aov_table"
   ]
  },
  {
   "cell_type": "code",
   "execution_count": 1733,
   "metadata": {},
   "outputs": [
    {
     "name": "stdout",
     "output_type": "stream",
     "text": [
      "Multiple Comparison of Means - Tukey HSD,FWER=0.05\n",
      "============================================\n",
      "group1 group2 meandiff  lower  upper  reject\n",
      "--------------------------------------------\n",
      "  0      1    -0.0177  -0.0894 0.054  False \n",
      "  0      2    -0.0133  -0.0917 0.0651 False \n",
      "  0      3     0.0095  -0.0619 0.0809 False \n",
      "  0      4    -0.0015  -0.0699 0.0669 False \n",
      "  0      5     0.0051  -0.0746 0.0848 False \n",
      "  0      6     0.0078  -0.0734 0.0889 False \n",
      "  1      2     0.0044  -0.0671 0.0759 False \n",
      "  1      3     0.0272  -0.0365 0.091  False \n",
      "  1      4     0.0162  -0.0442 0.0766 False \n",
      "  1      5     0.0229  -0.0501 0.0958 False \n",
      "  1      6     0.0255  -0.0491 0.1001 False \n",
      "  2      3     0.0228  -0.0483 0.094  False \n",
      "  2      4     0.0118  -0.0564  0.08  False \n",
      "  2      5     0.0185  -0.0611 0.098  False \n",
      "  2      6     0.0211  -0.0599 0.1021 False \n",
      "  3      4     -0.011   -0.071 0.049  False \n",
      "  3      5    -0.0044   -0.077 0.0683 False \n",
      "  3      6    -0.0018   -0.076 0.0725 False \n",
      "  4      5     0.0067   -0.063 0.0763 False \n",
      "  4      6     0.0093  -0.0621 0.0806 False \n",
      "  5      6     0.0026  -0.0797 0.0849 False \n",
      "--------------------------------------------\n"
     ]
    }
   ],
   "source": [
    "from statsmodels.stats.multicomp import pairwise_tukeyhsd # using the pairwise function\n",
    "\n",
    "print pairwise_tukeyhsd(df['Y2defect'], df['INCOME'])"
   ]
  },
  {
   "cell_type": "code",
   "execution_count": 1734,
   "metadata": {
    "scrolled": true
   },
   "outputs": [
    {
     "name": "stdout",
     "output_type": "stream",
     "text": [
      "<class 'pandas.core.frame.DataFrame'>\n",
      "Int64Index: 6214 entries, 0 to 9215\n",
      "Data columns (total 15 columns):\n",
      "FAKEID      6214 non-null object\n",
      "Y2defect    6214 non-null int64\n",
      "Y1G5        6214 non-null int64\n",
      "Y1G4        6214 non-null int64\n",
      "Y1G3        6214 non-null int64\n",
      "Y1G2        6214 non-null int64\n",
      "Y1G1        6214 non-null int64\n",
      "Y1price     6214 non-null int64\n",
      "YEARS       6214 non-null int64\n",
      "BACKER      6214 non-null int64\n",
      "AGE         6214 non-null int32\n",
      "INCOME      6214 non-null int32\n",
      "GNDR        6214 non-null int32\n",
      "PCTMARR     6214 non-null int64\n",
      "HOMEVAL     6214 non-null int64\n",
      "dtypes: int32(3), int64(11), object(1)\n",
      "memory usage: 863.9+ KB\n"
     ]
    }
   ],
   "source": [
    "df.info() # checking data"
   ]
  },
  {
   "cell_type": "markdown",
   "metadata": {},
   "source": [
    "## Extra Model building"
   ]
  },
  {
   "cell_type": "markdown",
   "metadata": {},
   "source": [
    "## SelectKBest"
   ]
  },
  {
   "cell_type": "code",
   "execution_count": 1735,
   "metadata": {},
   "outputs": [
    {
     "name": "stdout",
     "output_type": "stream",
     "text": [
      "[[0 1 1]\n",
      " [1 0 1]\n",
      " [1 0 1]\n",
      " ...\n",
      " [1 0 0]\n",
      " [1 0 1]\n",
      " [0 0 1]]\n"
     ]
    }
   ],
   "source": [
    "X_new = SelectKBest(chi2, k=3).fit_transform(X,y) # beginng SelectKBest\n",
    "print X_new"
   ]
  },
  {
   "cell_type": "code",
   "execution_count": 1736,
   "metadata": {},
   "outputs": [
    {
     "name": "stdout",
     "output_type": "stream",
     "text": [
      "0.5924932975871313\n",
      "--------------------------------------------------------\n",
      "[[725 212]\n",
      " [548 380]]\n",
      "--------------------------------------------------------\n",
      "             precision    recall  f1-score   support\n",
      "\n",
      "          0       0.57      0.77      0.66       937\n",
      "          1       0.64      0.41      0.50       928\n",
      "\n",
      "avg / total       0.61      0.59      0.58      1865\n",
      "\n",
      "--------------------------------------------------------\n",
      "0.591614378243109\n"
     ]
    }
   ],
   "source": [
    "# evaluate the model by splitting into train (70%) and test sets (30%)\n",
    "X_train, X_test, y_train, y_test = train_test_split(X_new, y, test_size=0.3, random_state=0)\n",
    "#model2 = tree.DecisionTreeClassifier(criterion='entropy', max_depth=3,min_samples_leaf=5)\n",
    "dt = tree.DecisionTreeClassifier()\n",
    "dt.fit(X_train, y_train)\n",
    "\n",
    "#Model evaluation\n",
    "print metrics.accuracy_score(y_test, dt.predict(X_test))\n",
    "print \"--------------------------------------------------------\"\n",
    "print metrics.confusion_matrix(y_test, dt.predict(X_test)) \n",
    "print \"--------------------------------------------------------\"\n",
    "print metrics.classification_report(y_test, dt.predict(X_test))\n",
    "print \"--------------------------------------------------------\"\n",
    "print metrics.roc_auc_score(y_test, dt.predict(X_test))"
   ]
  },
  {
   "cell_type": "markdown",
   "metadata": {},
   "source": [
    "## Logistic Regression"
   ]
  },
  {
   "cell_type": "code",
   "execution_count": 1737,
   "metadata": {},
   "outputs": [
    {
     "name": "stdout",
     "output_type": "stream",
     "text": [
      "0.5806970509383378\n",
      "[[562 375]\n",
      " [407 521]]\n",
      "             precision    recall  f1-score   support\n",
      "\n",
      "          0       0.58      0.60      0.59       937\n",
      "          1       0.58      0.56      0.57       928\n",
      "\n",
      "avg / total       0.58      0.58      0.58      1865\n",
      "\n",
      "0.5806044833106392\n"
     ]
    }
   ],
   "source": [
    "# develop logistic regression model with X_new (only three predictors or independent variables)\n",
    "\n",
    "X_train, X_test, y_train, y_test = train_test_split(X_new, y, test_size=0.3, random_state=0)\n",
    "lr = LogisticRegression()\n",
    "lr.fit(X_train, y_train)\n",
    "\n",
    "#Model evaluation\n",
    "print metrics.accuracy_score(y_test, lr.predict(X_test))\n",
    "print metrics.confusion_matrix(y_test, lr.predict(X_test))\n",
    "print metrics.classification_report(y_test, lr.predict(X_test))\n",
    "print metrics.roc_auc_score(y_test, lr.predict(X_test))"
   ]
  },
  {
   "cell_type": "markdown",
   "metadata": {},
   "source": [
    "## Recursive Feature Selection"
   ]
  },
  {
   "cell_type": "code",
   "execution_count": 1738,
   "metadata": {},
   "outputs": [
    {
     "name": "stdout",
     "output_type": "stream",
     "text": [
      "[ True False  True  True  True]\n",
      "[1 2 1 1 1]\n"
     ]
    }
   ],
   "source": [
    "model = LogisticRegression()\n",
    "rfe = RFE(model, 4)  #asking four best attributes\n",
    "rfe = rfe.fit(X, y)\n",
    "# summarize the selection of the attributes\n",
    "print(rfe.support_)\n",
    "print(rfe.ranking_)"
   ]
  },
  {
   "cell_type": "code",
   "execution_count": 1739,
   "metadata": {},
   "outputs": [
    {
     "data": {
      "text/html": [
       "<div>\n",
       "<style scoped>\n",
       "    .dataframe tbody tr th:only-of-type {\n",
       "        vertical-align: middle;\n",
       "    }\n",
       "\n",
       "    .dataframe tbody tr th {\n",
       "        vertical-align: top;\n",
       "    }\n",
       "\n",
       "    .dataframe thead th {\n",
       "        text-align: right;\n",
       "    }\n",
       "</style>\n",
       "<table border=\"1\" class=\"dataframe\">\n",
       "  <thead>\n",
       "    <tr style=\"text-align: right;\">\n",
       "      <th></th>\n",
       "      <th>feature</th>\n",
       "      <th>importance</th>\n",
       "    </tr>\n",
       "  </thead>\n",
       "  <tbody>\n",
       "    <tr>\n",
       "      <th>0</th>\n",
       "      <td>Y1G5</td>\n",
       "      <td>1</td>\n",
       "    </tr>\n",
       "    <tr>\n",
       "      <th>1</th>\n",
       "      <td>Y1G4</td>\n",
       "      <td>2</td>\n",
       "    </tr>\n",
       "    <tr>\n",
       "      <th>2</th>\n",
       "      <td>Y1G3</td>\n",
       "      <td>1</td>\n",
       "    </tr>\n",
       "    <tr>\n",
       "      <th>3</th>\n",
       "      <td>Y1G2</td>\n",
       "      <td>1</td>\n",
       "    </tr>\n",
       "    <tr>\n",
       "      <th>4</th>\n",
       "      <td>Y1G1</td>\n",
       "      <td>1</td>\n",
       "    </tr>\n",
       "  </tbody>\n",
       "</table>\n",
       "</div>"
      ],
      "text/plain": [
       "  feature  importance\n",
       "0    Y1G5           1\n",
       "1    Y1G4           2\n",
       "2    Y1G3           1\n",
       "3    Y1G2           1\n",
       "4    Y1G1           1"
      ]
     },
     "execution_count": 1739,
     "metadata": {},
     "output_type": "execute_result"
    }
   ],
   "source": [
    "# Features sorted by their rank\n",
    "pd.DataFrame({'feature':X.columns, 'importance':rfe.ranking_})"
   ]
  },
  {
   "cell_type": "code",
   "execution_count": 1740,
   "metadata": {},
   "outputs": [
    {
     "name": "stdout",
     "output_type": "stream",
     "text": [
      "Features sorted by their rank:\n",
      "[(1, u'Y1G1'), (1, u'Y1G2'), (1, u'Y1G3'), (1, u'Y1G5'), (2, u'Y1G4')]\n"
     ]
    }
   ],
   "source": [
    "# another method\n",
    "print \"Features sorted by their rank:\"\n",
    "print sorted(zip(map(lambda x: x, rfe.ranking_), X.columns))"
   ]
  },
  {
   "cell_type": "code",
   "execution_count": 1741,
   "metadata": {},
   "outputs": [
    {
     "name": "stdout",
     "output_type": "stream",
     "text": [
      "   BACKER  Y1G1  Y1G3  Y1G5\n",
      "0       1     1     1     0\n",
      "2       1     1     0     1\n",
      "3       0     1     1     1\n",
      "4       0     0     1     0\n",
      "5       0     0     1     0\n"
     ]
    }
   ],
   "source": [
    "#here I select 4 most significant features only (including Age)\n",
    "X_logistic = df[['BACKER', 'Y1G1', 'Y1G3', 'Y1G5']]\n",
    "print X_logistic.head()"
   ]
  },
  {
   "cell_type": "code",
   "execution_count": 1742,
   "metadata": {},
   "outputs": [
    {
     "name": "stdout",
     "output_type": "stream",
     "text": [
      "0.5812332439678284\n",
      "[[542 395]\n",
      " [386 542]]\n",
      "             precision    recall  f1-score   support\n",
      "\n",
      "          0       0.58      0.58      0.58       937\n",
      "          1       0.58      0.58      0.58       928\n",
      "\n",
      "avg / total       0.58      0.58      0.58      1865\n",
      "\n",
      "0.5812467798918044\n"
     ]
    }
   ],
   "source": [
    "X_train, X_test, y_train, y_test = train_test_split(X_logistic, y, test_size=0.3, random_state=0)\n",
    "lr = LogisticRegression()\n",
    "lr.fit(X_train, y_train)\n",
    "\n",
    "#Model evaluation\n",
    "print metrics.accuracy_score(y_test, lr.predict(X_test))\n",
    "print metrics.confusion_matrix(y_test, lr.predict(X_test))\n",
    "print metrics.classification_report(y_test, lr.predict(X_test))\n",
    "print metrics.roc_auc_score(y_test, lr.predict(X_test))"
   ]
  },
  {
   "cell_type": "markdown",
   "metadata": {},
   "source": [
    "## Storytelling"
   ]
  },
  {
   "cell_type": "markdown",
   "metadata": {},
   "source": [
    "#### Results from testing"
   ]
  },
  {
   "cell_type": "markdown",
   "metadata": {},
   "source": [
    "My results seem very inconclusive, I can visibly see some trends but I could not come to a conclusion as to why ticket holders may defect or not. My accuracy for predicting defects is correct 60% of the time. It seems like a lot of the data I used had no effective trends, a lot of the time the difference between defecting and buying the next season held the same graphical information."
   ]
  },
  {
   "cell_type": "markdown",
   "metadata": {},
   "source": [
    "#### Managerial Implications:"
   ]
  },
  {
   "cell_type": "markdown",
   "metadata": {},
   "source": [
    "Managers could evaluate ticket buyers better to view who is more at risk to not buy season tickets next year. The most important variables I found were; BACKER, Y1G1, Y1G3, Y1G5. They are important because the heavier correlations between being a backer and the game attendance to people not renewing their tickets. Characteristics of people likely to defect are newer season ticket holders, lower than average income, and not a member of the teams \"Backer\" club."
   ]
  },
  {
   "cell_type": "markdown",
   "metadata": {},
   "source": [
    "#### Technical Implications:"
   ]
  },
  {
   "cell_type": "markdown",
   "metadata": {},
   "source": [
    "##### i) What kind of additional data (X or independent variables) would you need to build a better classification model?"
   ]
  },
  {
   "cell_type": "markdown",
   "metadata": {},
   "source": [
    "Teams ending record, Home game outcome(i.e. Win Loss), Year by year price difference."
   ]
  },
  {
   "cell_type": "markdown",
   "metadata": {},
   "source": [
    "##### ii) Any suggestions to build a better classification model?"
   ]
  },
  {
   "cell_type": "markdown",
   "metadata": {},
   "source": [
    "Maybe involve more information as to the opponents played in the games attended and state if it was a winning season or a winning game, this will give better insight on if the ticket holders are more likely to stay based on the teams performance that season."
   ]
  }
 ],
 "metadata": {
  "kernelspec": {
   "display_name": "Python 2",
   "language": "python",
   "name": "python2"
  },
  "language_info": {
   "codemirror_mode": {
    "name": "ipython",
    "version": 2
   },
   "file_extension": ".py",
   "mimetype": "text/x-python",
   "name": "python",
   "nbconvert_exporter": "python",
   "pygments_lexer": "ipython2",
   "version": "2.7.14"
  }
 },
 "nbformat": 4,
 "nbformat_minor": 2
}
